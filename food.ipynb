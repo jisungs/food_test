{
 "cells": [
  {
   "cell_type": "markdown",
   "metadata": {},
   "source": [
    "# 부산맛집정보"
   ]
  },
  {
   "cell_type": "markdown",
   "metadata": {},
   "source": [
    "### 데이터 호출"
   ]
  },
  {
   "cell_type": "code",
   "execution_count": 12,
   "metadata": {},
   "outputs": [],
   "source": [
    "import pandas as pd\n",
    "import numpy as np\n",
    "\n",
    "df = pd.read_csv('food_data.csv')"
   ]
  },
  {
   "cell_type": "code",
   "execution_count": 13,
   "metadata": {},
   "outputs": [
    {
     "data": {
      "text/html": [
       "<div>\n",
       "<style scoped>\n",
       "    .dataframe tbody tr th:only-of-type {\n",
       "        vertical-align: middle;\n",
       "    }\n",
       "\n",
       "    .dataframe tbody tr th {\n",
       "        vertical-align: top;\n",
       "    }\n",
       "\n",
       "    .dataframe thead th {\n",
       "        text-align: right;\n",
       "    }\n",
       "</style>\n",
       "<table border=\"1\" class=\"dataframe\">\n",
       "  <thead>\n",
       "    <tr style=\"text-align: right;\">\n",
       "      <th></th>\n",
       "      <th>UC_SEQ</th>\n",
       "      <th>MAIN_TITLE</th>\n",
       "      <th>GUGUN_NM</th>\n",
       "      <th>LAT</th>\n",
       "      <th>LNG</th>\n",
       "      <th>PLACE</th>\n",
       "      <th>TITLE</th>\n",
       "      <th>SUBTITLE</th>\n",
       "      <th>ADDR1</th>\n",
       "      <th>ADDR2</th>\n",
       "      <th>CNTCT_TEL</th>\n",
       "      <th>HOMEPAGE_URL</th>\n",
       "      <th>USAGE_DAY_WEEK_AND_TIME</th>\n",
       "      <th>RPRSNTV_MENU</th>\n",
       "      <th>MAIN_IMG_NORMAL</th>\n",
       "      <th>MAIN_IMG_THUMB</th>\n",
       "      <th>ITEMCNTNTS</th>\n",
       "    </tr>\n",
       "  </thead>\n",
       "  <tbody>\n",
       "    <tr>\n",
       "      <th>0</th>\n",
       "      <td>70</td>\n",
       "      <td>만드리곤드레밥</td>\n",
       "      <td>강서구</td>\n",
       "      <td>35.177387</td>\n",
       "      <td>128.95245</td>\n",
       "      <td>만드리곤드레밥</td>\n",
       "      <td>만드리곤드레밥</td>\n",
       "      <td>NaN</td>\n",
       "      <td>강서구 공항앞길 85번길 13</td>\n",
       "      <td>NaN</td>\n",
       "      <td>051-941-3669</td>\n",
       "      <td>NaN</td>\n",
       "      <td>10:00-20:00\\n(19:50 라스트오더)</td>\n",
       "      <td>돌솥곤드레정식, 단호박오리훈제</td>\n",
       "      <td>https://www.visitbusan.net/uploadImgs/files/cn...</td>\n",
       "      <td>https://www.visitbusan.net/uploadImgs/files/cn...</td>\n",
       "      <td>곤드레밥에는 일반적으로 건조 곤드레나물이 사용되는데,\\n이곳은 생 곤드레나물을 사용...</td>\n",
       "    </tr>\n",
       "    <tr>\n",
       "      <th>1</th>\n",
       "      <td>77</td>\n",
       "      <td>민물가든</td>\n",
       "      <td>강서구</td>\n",
       "      <td>35.160550</td>\n",
       "      <td>128.89468</td>\n",
       "      <td>민물가든</td>\n",
       "      <td>민물가든</td>\n",
       "      <td>민물가든</td>\n",
       "      <td>강서구 둔치중앙길5(봉림동)</td>\n",
       "      <td>NaN</td>\n",
       "      <td>051-971-8428</td>\n",
       "      <td>https://blog.naver.com/rladba1</td>\n",
       "      <td>24.03.12 ~ 24. 12.31 휴업중\\n11:00a.m. ~ 21:00p.m...</td>\n",
       "      <td>묵은지붕어조림, 붕어찜</td>\n",
       "      <td>https://www.visitbusan.net/uploadImgs/files/cn...</td>\n",
       "      <td>https://www.visitbusan.net/uploadImgs/files/cn...</td>\n",
       "      <td>30년간 운영해온 생선찜전문점으로, 전통방식인 나무통을 사용하여 조리하는 것이 특징...</td>\n",
       "    </tr>\n",
       "    <tr>\n",
       "      <th>2</th>\n",
       "      <td>94</td>\n",
       "      <td>가야할매밀면</td>\n",
       "      <td>연제구</td>\n",
       "      <td>35.185196</td>\n",
       "      <td>129.07988</td>\n",
       "      <td>가야할매밀면</td>\n",
       "      <td>가야할매밀면</td>\n",
       "      <td>가야할매밀면</td>\n",
       "      <td>부산 연제구 월드컵대로 145번길 32\\n</td>\n",
       "      <td>NaN</td>\n",
       "      <td>051-865-8017</td>\n",
       "      <td>NaN</td>\n",
       "      <td>11:00-20:00</td>\n",
       "      <td>물 밀면, 비빔밀면\\n</td>\n",
       "      <td>https://www.visitbusan.net/uploadImgs/files/cn...</td>\n",
       "      <td>https://www.visitbusan.net/uploadImgs/files/cn...</td>\n",
       "      <td>유명한 밀면전문점으로, 밀가루에 옥수수 전분을 섞어, 다른 밀면전문점들보다 더 탄력...</td>\n",
       "    </tr>\n",
       "    <tr>\n",
       "      <th>3</th>\n",
       "      <td>95</td>\n",
       "      <td>국제밀면본점</td>\n",
       "      <td>연제구</td>\n",
       "      <td>35.196890</td>\n",
       "      <td>129.07785</td>\n",
       "      <td>국제밀면본점</td>\n",
       "      <td>국제밀면본점</td>\n",
       "      <td>NaN</td>\n",
       "      <td>연제구 중앙대로1235번길 23-6</td>\n",
       "      <td>NaN</td>\n",
       "      <td>051-501-5507</td>\n",
       "      <td>NaN</td>\n",
       "      <td>10:00-20:00\\n4~9월 10:00-21:00 (라스트오더 20:30 전후)\\n</td>\n",
       "      <td>물밀면, 비빔밀면</td>\n",
       "      <td>https://www.visitbusan.net/uploadImgs/files/cn...</td>\n",
       "      <td>https://www.visitbusan.net/uploadImgs/files/cn...</td>\n",
       "      <td>밀면전문점 중에서도 특히 맛으로 소문난 이곳은\\n소 사골만을 사용한 육수 등 독창적...</td>\n",
       "    </tr>\n",
       "    <tr>\n",
       "      <th>4</th>\n",
       "      <td>102</td>\n",
       "      <td>할매가야밀면</td>\n",
       "      <td>중구</td>\n",
       "      <td>35.098934</td>\n",
       "      <td>129.03122</td>\n",
       "      <td>할매가야밀면</td>\n",
       "      <td>할매가야밀면</td>\n",
       "      <td>NaN</td>\n",
       "      <td>중구 광복로 56-14</td>\n",
       "      <td>NaN</td>\n",
       "      <td>051-246-3314</td>\n",
       "      <td>NaN</td>\n",
       "      <td>10:30-21:30</td>\n",
       "      <td>밀면, 비빔밀면</td>\n",
       "      <td>https://www.visitbusan.net/uploadImgs/files/cn...</td>\n",
       "      <td>https://www.visitbusan.net/uploadImgs/files/cn...</td>\n",
       "      <td>깔끔한 맛의 육수가 인상적인 40년 전통의 밀면 전문점으로, \\n식사시간에는 항상 ...</td>\n",
       "    </tr>\n",
       "  </tbody>\n",
       "</table>\n",
       "</div>"
      ],
      "text/plain": [
       "   UC_SEQ MAIN_TITLE GUGUN_NM        LAT        LNG    PLACE    TITLE  \\\n",
       "0      70    만드리곤드레밥      강서구  35.177387  128.95245  만드리곤드레밥  만드리곤드레밥   \n",
       "1      77       민물가든      강서구  35.160550  128.89468     민물가든     민물가든   \n",
       "2      94     가야할매밀면      연제구  35.185196  129.07988   가야할매밀면   가야할매밀면   \n",
       "3      95     국제밀면본점      연제구  35.196890  129.07785   국제밀면본점   국제밀면본점   \n",
       "4     102     할매가야밀면       중구  35.098934  129.03122   할매가야밀면   할매가야밀면   \n",
       "\n",
       "  SUBTITLE                    ADDR1 ADDR2     CNTCT_TEL  \\\n",
       "0      NaN         강서구 공항앞길 85번길 13   NaN  051-941-3669   \n",
       "1     민물가든         강서구 둔치중앙길5(봉림동)    NaN  051-971-8428   \n",
       "2   가야할매밀면  부산 연제구 월드컵대로 145번길 32\\n   NaN  051-865-8017   \n",
       "3      NaN     연제구 중앙대로1235번길 23-6    NaN  051-501-5507   \n",
       "4      NaN             중구 광복로 56-14   NaN  051-246-3314   \n",
       "\n",
       "                     HOMEPAGE_URL  \\\n",
       "0                             NaN   \n",
       "1  https://blog.naver.com/rladba1   \n",
       "2                             NaN   \n",
       "3                             NaN   \n",
       "4                             NaN   \n",
       "\n",
       "                             USAGE_DAY_WEEK_AND_TIME      RPRSNTV_MENU  \\\n",
       "0                         10:00-20:00\\n(19:50 라스트오더)  돌솥곤드레정식, 단호박오리훈제   \n",
       "1  24.03.12 ~ 24. 12.31 휴업중\\n11:00a.m. ~ 21:00p.m...      묵은지붕어조림, 붕어찜   \n",
       "2                                       11:00-20:00       물 밀면, 비빔밀면\\n   \n",
       "3   10:00-20:00\\n4~9월 10:00-21:00 (라스트오더 20:30 전후)\\n         물밀면, 비빔밀면   \n",
       "4                                        10:30-21:30          밀면, 비빔밀면   \n",
       "\n",
       "                                     MAIN_IMG_NORMAL  \\\n",
       "0  https://www.visitbusan.net/uploadImgs/files/cn...   \n",
       "1  https://www.visitbusan.net/uploadImgs/files/cn...   \n",
       "2  https://www.visitbusan.net/uploadImgs/files/cn...   \n",
       "3  https://www.visitbusan.net/uploadImgs/files/cn...   \n",
       "4  https://www.visitbusan.net/uploadImgs/files/cn...   \n",
       "\n",
       "                                      MAIN_IMG_THUMB  \\\n",
       "0  https://www.visitbusan.net/uploadImgs/files/cn...   \n",
       "1  https://www.visitbusan.net/uploadImgs/files/cn...   \n",
       "2  https://www.visitbusan.net/uploadImgs/files/cn...   \n",
       "3  https://www.visitbusan.net/uploadImgs/files/cn...   \n",
       "4  https://www.visitbusan.net/uploadImgs/files/cn...   \n",
       "\n",
       "                                          ITEMCNTNTS  \n",
       "0  곤드레밥에는 일반적으로 건조 곤드레나물이 사용되는데,\\n이곳은 생 곤드레나물을 사용...  \n",
       "1  30년간 운영해온 생선찜전문점으로, 전통방식인 나무통을 사용하여 조리하는 것이 특징...  \n",
       "2  유명한 밀면전문점으로, 밀가루에 옥수수 전분을 섞어, 다른 밀면전문점들보다 더 탄력...  \n",
       "3  밀면전문점 중에서도 특히 맛으로 소문난 이곳은\\n소 사골만을 사용한 육수 등 독창적...  \n",
       "4  깔끔한 맛의 육수가 인상적인 40년 전통의 밀면 전문점으로, \\n식사시간에는 항상 ...  "
      ]
     },
     "execution_count": 13,
     "metadata": {},
     "output_type": "execute_result"
    }
   ],
   "source": [
    "df.head(5)"
   ]
  },
  {
   "cell_type": "code",
   "execution_count": 14,
   "metadata": {},
   "outputs": [
    {
     "data": {
      "text/plain": [
       "0    돌솥곤드레정식, 단호박오리훈제\n",
       "1        묵은지붕어조림, 붕어찜\n",
       "2        물 밀면, 비빔밀면\\n\n",
       "3           물밀면, 비빔밀면\n",
       "4            밀면, 비빔밀면\n",
       "Name: RPRSNTV_MENU, dtype: object"
      ]
     },
     "execution_count": 14,
     "metadata": {},
     "output_type": "execute_result"
    }
   ],
   "source": [
    "df['RPRSNTV_MENU'].head(5)"
   ]
  },
  {
   "cell_type": "markdown",
   "metadata": {},
   "source": [
    "#### a the 같은 요소들 제거해서 문장으로 만들어 주는 코드 (이게 메뉴 분석 하는데 필요 한가?)"
   ]
  },
  {
   "cell_type": "code",
   "execution_count": 7,
   "metadata": {},
   "outputs": [],
   "source": [
    "from sklearn.feature_extraction.text import TfidfVectorizer\n",
    "tfidf = TfidfVectorizer(stop_words='english')\n"
   ]
  },
  {
   "cell_type": "markdown",
   "metadata": {},
   "source": [
    "#### 메뉴 컬럼에서 빈값이 있는지 확인함"
   ]
  },
  {
   "cell_type": "code",
   "execution_count": 15,
   "metadata": {},
   "outputs": [
    {
     "data": {
      "text/plain": [
       "np.True_"
      ]
     },
     "execution_count": 15,
     "metadata": {},
     "output_type": "execute_result"
    }
   ],
   "source": [
    "df['RPRSNTV_MENU'].isnull().values.any()"
   ]
  },
  {
   "cell_type": "markdown",
   "metadata": {},
   "source": [
    "#### null 값이 있으면 빈 문자열로 전환"
   ]
  },
  {
   "cell_type": "code",
   "execution_count": 16,
   "metadata": {},
   "outputs": [],
   "source": [
    "df['RPRSNTV_MENU'] = df['RPRSNTV_MENU'].fillna('')"
   ]
  },
  {
   "cell_type": "code",
   "execution_count": 17,
   "metadata": {},
   "outputs": [
    {
     "data": {
      "text/plain": [
       "(394, 928)"
      ]
     },
     "execution_count": 17,
     "metadata": {},
     "output_type": "execute_result"
    }
   ],
   "source": [
    "tfidf_matrix = tfidf.fit_transform(df['RPRSNTV_MENU'])\n",
    "tfidf_matrix.shape"
   ]
  },
  {
   "cell_type": "markdown",
   "metadata": {},
   "source": [
    "#### 코사인 유사도를 구하기 위해 필요한 모듈"
   ]
  },
  {
   "cell_type": "code",
   "execution_count": 19,
   "metadata": {},
   "outputs": [
    {
     "data": {
      "text/plain": [
       "array([[1.        , 0.        , 0.        , ..., 0.        , 0.        ,\n",
       "        0.        ],\n",
       "       [0.        , 1.        , 0.        , ..., 0.        , 0.        ,\n",
       "        0.        ],\n",
       "       [0.        , 0.        , 1.        , ..., 0.        , 0.        ,\n",
       "        0.        ],\n",
       "       ...,\n",
       "       [0.        , 0.        , 0.        , ..., 1.        , 0.16532455,\n",
       "        0.32167676],\n",
       "       [0.        , 0.        , 0.        , ..., 0.16532455, 1.        ,\n",
       "        0.11463543],\n",
       "       [0.        , 0.        , 0.        , ..., 0.32167676, 0.11463543,\n",
       "        1.        ]], shape=(394, 394))"
      ]
     },
     "execution_count": 19,
     "metadata": {},
     "output_type": "execute_result"
    }
   ],
   "source": [
    "from sklearn.metrics.pairwise import linear_kernel\n",
    "\n",
    "cosine_sim = linear_kernel(tfidf_matrix, tfidf_matrix)\n",
    "cosine_sim"
   ]
  },
  {
   "cell_type": "code",
   "execution_count": 20,
   "metadata": {},
   "outputs": [
    {
     "data": {
      "text/plain": [
       "(394, 394)"
      ]
     },
     "execution_count": 20,
     "metadata": {},
     "output_type": "execute_result"
    }
   ],
   "source": [
    "cosine_sim.shape"
   ]
  },
  {
   "cell_type": "markdown",
   "metadata": {},
   "source": [
    "####  가게 이름을 입력하면 인덱스를 반환해주는 함수"
   ]
  },
  {
   "cell_type": "code",
   "execution_count": 24,
   "metadata": {},
   "outputs": [
    {
     "data": {
      "text/plain": [
       "MAIN_TITLE\n",
       "만드리곤드레밥      0\n",
       "민물가든         1\n",
       "가야할매밀면       2\n",
       "국제밀면본점       3\n",
       "할매가야밀면       4\n",
       "          ... \n",
       "옵스         389\n",
       "모모스커피      390\n",
       "베르크로스터스    391\n",
       "블랙업커피      392\n",
       "히떼로스터리     393\n",
       "Length: 394, dtype: int64"
      ]
     },
     "execution_count": 24,
     "metadata": {},
     "output_type": "execute_result"
    }
   ],
   "source": [
    "indices = pd.Series(df.index, index=df['MAIN_TITLE']).drop_duplicates()\n",
    "indices"
   ]
  },
  {
   "cell_type": "code",
   "execution_count": 25,
   "metadata": {},
   "outputs": [
    {
     "data": {
      "text/plain": [
       "np.int64(3)"
      ]
     },
     "execution_count": 25,
     "metadata": {},
     "output_type": "execute_result"
    }
   ],
   "source": [
    "indices['국제밀면본점']"
   ]
  },
  {
   "cell_type": "code",
   "execution_count": 26,
   "metadata": {},
   "outputs": [
    {
     "data": {
      "text/html": [
       "<div>\n",
       "<style scoped>\n",
       "    .dataframe tbody tr th:only-of-type {\n",
       "        vertical-align: middle;\n",
       "    }\n",
       "\n",
       "    .dataframe tbody tr th {\n",
       "        vertical-align: top;\n",
       "    }\n",
       "\n",
       "    .dataframe thead th {\n",
       "        text-align: right;\n",
       "    }\n",
       "</style>\n",
       "<table border=\"1\" class=\"dataframe\">\n",
       "  <thead>\n",
       "    <tr style=\"text-align: right;\">\n",
       "      <th></th>\n",
       "      <th>UC_SEQ</th>\n",
       "      <th>MAIN_TITLE</th>\n",
       "      <th>GUGUN_NM</th>\n",
       "      <th>LAT</th>\n",
       "      <th>LNG</th>\n",
       "      <th>PLACE</th>\n",
       "      <th>TITLE</th>\n",
       "      <th>SUBTITLE</th>\n",
       "      <th>ADDR1</th>\n",
       "      <th>ADDR2</th>\n",
       "      <th>CNTCT_TEL</th>\n",
       "      <th>HOMEPAGE_URL</th>\n",
       "      <th>USAGE_DAY_WEEK_AND_TIME</th>\n",
       "      <th>RPRSNTV_MENU</th>\n",
       "      <th>MAIN_IMG_NORMAL</th>\n",
       "      <th>MAIN_IMG_THUMB</th>\n",
       "      <th>ITEMCNTNTS</th>\n",
       "    </tr>\n",
       "  </thead>\n",
       "  <tbody>\n",
       "    <tr>\n",
       "      <th>3</th>\n",
       "      <td>95</td>\n",
       "      <td>국제밀면본점</td>\n",
       "      <td>연제구</td>\n",
       "      <td>35.19689</td>\n",
       "      <td>129.07785</td>\n",
       "      <td>국제밀면본점</td>\n",
       "      <td>국제밀면본점</td>\n",
       "      <td>NaN</td>\n",
       "      <td>연제구 중앙대로1235번길 23-6</td>\n",
       "      <td>NaN</td>\n",
       "      <td>051-501-5507</td>\n",
       "      <td>NaN</td>\n",
       "      <td>10:00-20:00\\n4~9월 10:00-21:00 (라스트오더 20:30 전후)\\n</td>\n",
       "      <td>물밀면, 비빔밀면</td>\n",
       "      <td>https://www.visitbusan.net/uploadImgs/files/cn...</td>\n",
       "      <td>https://www.visitbusan.net/uploadImgs/files/cn...</td>\n",
       "      <td>밀면전문점 중에서도 특히 맛으로 소문난 이곳은\\n소 사골만을 사용한 육수 등 독창적...</td>\n",
       "    </tr>\n",
       "  </tbody>\n",
       "</table>\n",
       "</div>"
      ],
      "text/plain": [
       "   UC_SEQ MAIN_TITLE GUGUN_NM       LAT        LNG   PLACE   TITLE SUBTITLE  \\\n",
       "3      95     국제밀면본점      연제구  35.19689  129.07785  국제밀면본점  국제밀면본점      NaN   \n",
       "\n",
       "                  ADDR1 ADDR2     CNTCT_TEL HOMEPAGE_URL  \\\n",
       "3  연제구 중앙대로1235번길 23-6    NaN  051-501-5507          NaN   \n",
       "\n",
       "                            USAGE_DAY_WEEK_AND_TIME RPRSNTV_MENU  \\\n",
       "3  10:00-20:00\\n4~9월 10:00-21:00 (라스트오더 20:30 전후)\\n    물밀면, 비빔밀면   \n",
       "\n",
       "                                     MAIN_IMG_NORMAL  \\\n",
       "3  https://www.visitbusan.net/uploadImgs/files/cn...   \n",
       "\n",
       "                                      MAIN_IMG_THUMB  \\\n",
       "3  https://www.visitbusan.net/uploadImgs/files/cn...   \n",
       "\n",
       "                                          ITEMCNTNTS  \n",
       "3  밀면전문점 중에서도 특히 맛으로 소문난 이곳은\\n소 사골만을 사용한 육수 등 독창적...  "
      ]
     },
     "execution_count": 26,
     "metadata": {},
     "output_type": "execute_result"
    }
   ],
   "source": [
    "df.iloc[[3]]"
   ]
  },
  {
   "cell_type": "markdown",
   "metadata": {},
   "source": [
    "#### 가게의 이름을 입력하면 가장 비슷한 상위 열개의 가게를 추천해주는 함수"
   ]
  },
  {
   "cell_type": "code",
   "execution_count": 27,
   "metadata": {},
   "outputs": [],
   "source": [
    "def get_recommendations(title, cosine_sim=cosine_sim):\n",
    "    #가게 이름을 통해서 전체 데이터에서 인덱스 값가져오기\n",
    "    idx = indices[title]\n",
    "    #코사인 유사도 에서 인덱스 에 해당하는 데이터를 딕셔너리 형태로 가져오기\n",
    "    sim_scores = list(enumerate(cosine_sim[idx]))\n",
    "    #코사인 유사도 기준으로 내림차순 정렬\n",
    "    sim_scores = sorted(sim_scores, key=lambda x: x[1], reverse=True)\n",
    "    #자기 자신을 제외한 10개 가게 잘라내기\n",
    "    sim_scores = sim_scores[1:11]\n",
    "    #추천 가게 목록 10개 인덱스 정보 추출\n",
    "    store_indices = [i[0] for i in sim_scores]\n",
    "    #인덱스 정보를 바탕으로 가게 제목 추출\n",
    "    return df['MAIN_TITLE'].iloc[store_indices]\n",
    "\n"
   ]
  },
  {
   "cell_type": "code",
   "execution_count": 28,
   "metadata": {},
   "outputs": [
    {
     "data": {
      "text/plain": [
       "np.int64(3)"
      ]
     },
     "execution_count": 28,
     "metadata": {},
     "output_type": "execute_result"
    }
   ],
   "source": [
    "test_idx = indices['국제밀면본점'] # 가게 이름을 기준으로 인덱스 값 가져오\n",
    "test_idx"
   ]
  },
  {
   "cell_type": "code",
   "execution_count": 29,
   "metadata": {},
   "outputs": [
    {
     "data": {
      "text/plain": [
       "array([0.        , 0.        , 0.46283429, 1.        , 0.46283429,\n",
       "       0.        , 0.        , 0.        , 0.        , 0.        ,\n",
       "       0.        , 0.        , 0.        , 0.        , 0.        ,\n",
       "       0.        , 0.        , 0.        , 0.        , 0.        ,\n",
       "       0.        , 0.        , 0.        , 0.        , 0.        ,\n",
       "       0.        , 0.        , 0.        , 0.        , 0.        ,\n",
       "       0.        , 0.        , 0.        , 0.        , 0.        ,\n",
       "       0.        , 0.        , 0.        , 0.        , 0.        ,\n",
       "       0.        , 0.        , 0.        , 0.        , 0.        ,\n",
       "       0.        , 0.        , 0.        , 0.        , 0.        ,\n",
       "       0.        , 0.26209348, 0.        , 0.        , 0.        ,\n",
       "       0.        , 0.        , 0.        , 0.        , 0.        ,\n",
       "       0.79256059, 0.        , 0.        , 0.        , 0.        ,\n",
       "       0.        , 0.        , 0.        , 0.        , 0.        ,\n",
       "       0.        , 0.        , 0.        , 0.        , 0.        ,\n",
       "       0.        , 0.        , 0.        , 0.        , 0.        ,\n",
       "       0.        , 0.        , 0.        , 0.        , 0.        ,\n",
       "       0.        , 0.47979317, 0.        , 0.41437377, 0.        ,\n",
       "       0.        , 0.        , 0.        , 0.        , 0.        ,\n",
       "       0.        , 0.        , 0.        , 0.        , 0.        ,\n",
       "       0.        , 0.        , 0.        , 0.        , 0.        ,\n",
       "       0.        , 0.        , 0.        , 0.        , 0.        ,\n",
       "       0.        , 0.        , 0.        , 0.        , 0.        ,\n",
       "       0.        , 0.        , 0.        , 0.        , 0.        ,\n",
       "       0.        , 0.        , 0.        , 0.        , 0.        ,\n",
       "       0.        , 0.        , 0.        , 0.        , 0.        ,\n",
       "       0.        , 0.        , 0.        , 0.        , 0.        ,\n",
       "       0.        , 0.        , 0.        , 0.        , 0.        ,\n",
       "       0.        , 0.        , 0.        , 0.        , 0.        ,\n",
       "       0.        , 0.        , 0.        , 0.        , 0.        ,\n",
       "       0.        , 0.        , 0.        , 0.        , 0.        ,\n",
       "       0.        , 0.        , 0.        , 0.        , 0.        ,\n",
       "       0.        , 0.        , 0.        , 0.        , 0.        ,\n",
       "       0.        , 0.        , 0.        , 0.        , 0.        ,\n",
       "       0.        , 0.        , 0.        , 0.        , 0.        ,\n",
       "       0.        , 0.        , 0.        , 0.        , 0.        ,\n",
       "       0.        , 0.        , 0.        , 0.        , 0.        ,\n",
       "       0.        , 0.        , 0.        , 0.        , 0.        ,\n",
       "       0.        , 0.        , 0.        , 0.        , 0.        ,\n",
       "       0.        , 0.        , 0.        , 0.        , 0.        ,\n",
       "       0.        , 0.        , 0.        , 0.        , 0.        ,\n",
       "       0.        , 0.        , 0.        , 0.        , 0.        ,\n",
       "       0.        , 0.        , 0.        , 0.        , 0.        ,\n",
       "       0.        , 0.        , 0.        , 0.        , 0.        ,\n",
       "       0.        , 0.        , 0.        , 0.        , 0.        ,\n",
       "       0.        , 0.        , 0.        , 0.        , 0.        ,\n",
       "       0.        , 0.        , 0.        , 0.        , 0.        ,\n",
       "       0.        , 0.        , 0.        , 0.        , 0.        ,\n",
       "       0.        , 0.        , 0.        , 0.        , 0.        ,\n",
       "       0.        , 0.        , 0.        , 0.        , 0.        ,\n",
       "       0.        , 0.        , 0.        , 0.        , 0.        ,\n",
       "       0.        , 0.        , 0.        , 0.        , 0.        ,\n",
       "       0.        , 0.        , 0.        , 0.        , 0.        ,\n",
       "       0.        , 0.        , 0.        , 0.        , 0.        ,\n",
       "       0.        , 0.        , 0.        , 0.        , 0.        ,\n",
       "       0.        , 0.        , 0.        , 0.        , 0.        ,\n",
       "       0.        , 0.        , 0.        , 0.        , 0.        ,\n",
       "       0.        , 0.        , 0.        , 0.        , 0.        ,\n",
       "       0.        , 0.        , 0.        , 0.        , 0.        ,\n",
       "       0.        , 0.        , 0.        , 0.        , 0.        ,\n",
       "       0.        , 0.        , 0.        , 0.        , 0.        ,\n",
       "       0.        , 0.        , 0.        , 0.        , 0.        ,\n",
       "       0.        , 0.        , 0.        , 0.        , 0.        ,\n",
       "       0.        , 0.        , 0.        , 0.        , 0.        ,\n",
       "       0.        , 0.        , 0.        , 0.        , 0.        ,\n",
       "       0.        , 0.        , 0.        , 0.        , 0.        ,\n",
       "       0.        , 0.        , 0.        , 0.        , 0.        ,\n",
       "       0.        , 0.        , 0.        , 0.        , 0.        ,\n",
       "       0.        , 0.        , 0.        , 0.        , 0.        ,\n",
       "       0.        , 0.        , 0.        , 0.        , 0.        ,\n",
       "       0.        , 0.        , 0.        , 0.        , 0.        ,\n",
       "       0.        , 0.        , 0.        , 0.        , 0.55526378,\n",
       "       0.        , 0.        , 0.        , 0.        , 0.        ,\n",
       "       0.        , 0.        , 0.        , 0.        , 0.        ,\n",
       "       0.        , 0.        , 0.        , 0.        , 0.        ,\n",
       "       0.        , 0.        , 0.        , 0.        , 0.        ,\n",
       "       0.        , 0.        , 0.        , 0.        , 0.        ,\n",
       "       0.        , 0.        , 0.        , 0.        , 0.        ,\n",
       "       0.        , 0.        , 0.        , 0.        ])"
      ]
     },
     "execution_count": 29,
     "metadata": {},
     "output_type": "execute_result"
    }
   ],
   "source": [
    "cosine_sim[3]"
   ]
  },
  {
   "cell_type": "code",
   "execution_count": 30,
   "metadata": {},
   "outputs": [],
   "source": [
    "test_sim_scores = list(enumerate(cosine_sim[3])) # 국제밀면본점의 코사인 유사도 가져오기"
   ]
  },
  {
   "cell_type": "code",
   "execution_count": 31,
   "metadata": {},
   "outputs": [
    {
     "data": {
      "text/plain": [
       "[(60, np.float64(0.7925605909641772)),\n",
       " (359, np.float64(0.5552637804528624)),\n",
       " (86, np.float64(0.4797931679070155)),\n",
       " (2, np.float64(0.46283428834424906)),\n",
       " (4, np.float64(0.46283428834424906)),\n",
       " (88, np.float64(0.4143737723983014)),\n",
       " (51, np.float64(0.26209348241847324)),\n",
       " (0, np.float64(0.0)),\n",
       " (1, np.float64(0.0)),\n",
       " (5, np.float64(0.0))]"
      ]
     },
     "execution_count": 31,
     "metadata": {},
     "output_type": "execute_result"
    }
   ],
   "source": [
    "test_sim_scores = sorted(test_sim_scores, key=lambda x: x[1], reverse=True) # 코사인 유사도 기준으로 내림차순 정렬\n",
    "test_sim_scores[1:11] # 자기 자신을 제외한 10개의 추천 가게를 슬라이싱"
   ]
  },
  {
   "cell_type": "code",
   "execution_count": 32,
   "metadata": {},
   "outputs": [
    {
     "data": {
      "text/plain": [
       "[60, 359, 86, 2, 4, 88, 51, 0, 1, 5]"
      ]
     },
     "execution_count": 32,
     "metadata": {},
     "output_type": "execute_result"
    }
   ],
   "source": [
    "# 추천 가게 목록 10개의 인덱스 정보 추출\n",
    "test_store_indices = [i[0] for i in test_sim_scores[1:11]]\n",
    "test_store_indices"
   ]
  },
  {
   "cell_type": "code",
   "execution_count": 33,
   "metadata": {},
   "outputs": [
    {
     "data": {
      "text/plain": [
       "60            만포밀면옥\n",
       "359            개금밀면\n",
       "86     부산약콩밀면 이기대본점\n",
       "2            가야할매밀면\n",
       "4            할매가야밀면\n",
       "88             대연밀면\n",
       "51             당감밀면\n",
       "0           만드리곤드레밥\n",
       "1              민물가든\n",
       "5              거인통닭\n",
       "Name: MAIN_TITLE, dtype: object"
      ]
     },
     "execution_count": 33,
     "metadata": {},
     "output_type": "execute_result"
    }
   ],
   "source": [
    "df['MAIN_TITLE'].iloc[test_store_indices]"
   ]
  },
  {
   "cell_type": "code",
   "execution_count": 144,
   "metadata": {},
   "outputs": [
    {
     "data": {
      "text/plain": [
       "0         만드리곤드레밥\n",
       "1            민물가든\n",
       "2          가야할매밀면\n",
       "3          국제밀면본점\n",
       "4          할매가야밀면\n",
       "5            거인통닭\n",
       "6     부산꼼장어맛집 성일집\n",
       "7       배비장보쌈구서본점\n",
       "8        장수장 꼬리곰탕\n",
       "9      금수복국 해운대본점\n",
       "10         다온 한정식\n",
       "11         할매재첩국집\n",
       "12            예이제\n",
       "13       합천일류돼지국밥\n",
       "14        원조석대추어탕\n",
       "15           할매복국\n",
       "16        신창국밥 본점\n",
       "17          평안도족발\n",
       "18        한우숯불양곱창\n",
       "19     쌍둥이돼지국밥 본점\n",
       "Name: MAIN_TITLE, dtype: object"
      ]
     },
     "execution_count": 144,
     "metadata": {},
     "output_type": "execute_result"
    }
   ],
   "source": [
    "df['MAIN_TITLE'][:20]"
   ]
  },
  {
   "cell_type": "code",
   "execution_count": 35,
   "metadata": {},
   "outputs": [
    {
     "data": {
      "text/plain": [
       "381          할매재첩국\n",
       "100          하동재첩국\n",
       "0          만드리곤드레밥\n",
       "1             민물가든\n",
       "2           가야할매밀면\n",
       "3           국제밀면본점\n",
       "4           할매가야밀면\n",
       "5             거인통닭\n",
       "6      부산꼼장어맛집 성일집\n",
       "7        배비장보쌈구서본점\n",
       "Name: MAIN_TITLE, dtype: object"
      ]
     },
     "execution_count": 35,
     "metadata": {},
     "output_type": "execute_result"
    }
   ],
   "source": [
    "get_recommendations('할매재첩국집')"
   ]
  },
  {
   "cell_type": "code",
   "execution_count": null,
   "metadata": {},
   "outputs": [
    {
     "data": {
      "text/plain": [
       "65           부산족발\n",
       "0         만드리곤드레밥\n",
       "1            민물가든\n",
       "2          가야할매밀면\n",
       "3          국제밀면본점\n",
       "4          할매가야밀면\n",
       "5            거인통닭\n",
       "6     부산꼼장어맛집 성일집\n",
       "7       배비장보쌈구서본점\n",
       "8        장수장 꼬리곰탕\n",
       "Name: MAIN_TITLE, dtype: object"
      ]
     },
     "execution_count": 146,
     "metadata": {},
     "output_type": "execute_result"
    }
   ],
   "source": [
    "get_recommendations('평안도족발')"
   ]
  },
  {
   "cell_type": "markdown",
   "metadata": {},
   "source": [
    "### 다양한 요소 기반 추천(가게이름, 주소, 메뉴 등)"
   ]
  },
  {
   "cell_type": "code",
   "execution_count": 36,
   "metadata": {},
   "outputs": [
    {
     "data": {
      "text/html": [
       "<div>\n",
       "<style scoped>\n",
       "    .dataframe tbody tr th:only-of-type {\n",
       "        vertical-align: middle;\n",
       "    }\n",
       "\n",
       "    .dataframe tbody tr th {\n",
       "        vertical-align: top;\n",
       "    }\n",
       "\n",
       "    .dataframe thead th {\n",
       "        text-align: right;\n",
       "    }\n",
       "</style>\n",
       "<table border=\"1\" class=\"dataframe\">\n",
       "  <thead>\n",
       "    <tr style=\"text-align: right;\">\n",
       "      <th></th>\n",
       "      <th>UC_SEQ</th>\n",
       "      <th>MAIN_TITLE</th>\n",
       "      <th>GUGUN_NM</th>\n",
       "      <th>LAT</th>\n",
       "      <th>LNG</th>\n",
       "      <th>PLACE</th>\n",
       "      <th>TITLE</th>\n",
       "      <th>SUBTITLE</th>\n",
       "      <th>ADDR1</th>\n",
       "      <th>ADDR2</th>\n",
       "      <th>CNTCT_TEL</th>\n",
       "      <th>HOMEPAGE_URL</th>\n",
       "      <th>USAGE_DAY_WEEK_AND_TIME</th>\n",
       "      <th>RPRSNTV_MENU</th>\n",
       "      <th>MAIN_IMG_NORMAL</th>\n",
       "      <th>MAIN_IMG_THUMB</th>\n",
       "      <th>ITEMCNTNTS</th>\n",
       "    </tr>\n",
       "  </thead>\n",
       "  <tbody>\n",
       "    <tr>\n",
       "      <th>0</th>\n",
       "      <td>70</td>\n",
       "      <td>만드리곤드레밥</td>\n",
       "      <td>강서구</td>\n",
       "      <td>35.177387</td>\n",
       "      <td>128.95245</td>\n",
       "      <td>만드리곤드레밥</td>\n",
       "      <td>만드리곤드레밥</td>\n",
       "      <td>NaN</td>\n",
       "      <td>강서구 공항앞길 85번길 13</td>\n",
       "      <td>NaN</td>\n",
       "      <td>051-941-3669</td>\n",
       "      <td>NaN</td>\n",
       "      <td>10:00-20:00\\n(19:50 라스트오더)</td>\n",
       "      <td>돌솥곤드레정식, 단호박오리훈제</td>\n",
       "      <td>https://www.visitbusan.net/uploadImgs/files/cn...</td>\n",
       "      <td>https://www.visitbusan.net/uploadImgs/files/cn...</td>\n",
       "      <td>곤드레밥에는 일반적으로 건조 곤드레나물이 사용되는데,\\n이곳은 생 곤드레나물을 사용...</td>\n",
       "    </tr>\n",
       "    <tr>\n",
       "      <th>1</th>\n",
       "      <td>77</td>\n",
       "      <td>민물가든</td>\n",
       "      <td>강서구</td>\n",
       "      <td>35.160550</td>\n",
       "      <td>128.89468</td>\n",
       "      <td>민물가든</td>\n",
       "      <td>민물가든</td>\n",
       "      <td>민물가든</td>\n",
       "      <td>강서구 둔치중앙길5(봉림동)</td>\n",
       "      <td>NaN</td>\n",
       "      <td>051-971-8428</td>\n",
       "      <td>https://blog.naver.com/rladba1</td>\n",
       "      <td>24.03.12 ~ 24. 12.31 휴업중\\n11:00a.m. ~ 21:00p.m...</td>\n",
       "      <td>묵은지붕어조림, 붕어찜</td>\n",
       "      <td>https://www.visitbusan.net/uploadImgs/files/cn...</td>\n",
       "      <td>https://www.visitbusan.net/uploadImgs/files/cn...</td>\n",
       "      <td>30년간 운영해온 생선찜전문점으로, 전통방식인 나무통을 사용하여 조리하는 것이 특징...</td>\n",
       "    </tr>\n",
       "    <tr>\n",
       "      <th>2</th>\n",
       "      <td>94</td>\n",
       "      <td>가야할매밀면</td>\n",
       "      <td>연제구</td>\n",
       "      <td>35.185196</td>\n",
       "      <td>129.07988</td>\n",
       "      <td>가야할매밀면</td>\n",
       "      <td>가야할매밀면</td>\n",
       "      <td>가야할매밀면</td>\n",
       "      <td>부산 연제구 월드컵대로 145번길 32\\n</td>\n",
       "      <td>NaN</td>\n",
       "      <td>051-865-8017</td>\n",
       "      <td>NaN</td>\n",
       "      <td>11:00-20:00</td>\n",
       "      <td>물 밀면, 비빔밀면\\n</td>\n",
       "      <td>https://www.visitbusan.net/uploadImgs/files/cn...</td>\n",
       "      <td>https://www.visitbusan.net/uploadImgs/files/cn...</td>\n",
       "      <td>유명한 밀면전문점으로, 밀가루에 옥수수 전분을 섞어, 다른 밀면전문점들보다 더 탄력...</td>\n",
       "    </tr>\n",
       "  </tbody>\n",
       "</table>\n",
       "</div>"
      ],
      "text/plain": [
       "   UC_SEQ MAIN_TITLE GUGUN_NM        LAT        LNG    PLACE    TITLE  \\\n",
       "0      70    만드리곤드레밥      강서구  35.177387  128.95245  만드리곤드레밥  만드리곤드레밥   \n",
       "1      77       민물가든      강서구  35.160550  128.89468     민물가든     민물가든   \n",
       "2      94     가야할매밀면      연제구  35.185196  129.07988   가야할매밀면   가야할매밀면   \n",
       "\n",
       "  SUBTITLE                    ADDR1 ADDR2     CNTCT_TEL  \\\n",
       "0      NaN         강서구 공항앞길 85번길 13   NaN  051-941-3669   \n",
       "1     민물가든         강서구 둔치중앙길5(봉림동)    NaN  051-971-8428   \n",
       "2   가야할매밀면  부산 연제구 월드컵대로 145번길 32\\n   NaN  051-865-8017   \n",
       "\n",
       "                     HOMEPAGE_URL  \\\n",
       "0                             NaN   \n",
       "1  https://blog.naver.com/rladba1   \n",
       "2                             NaN   \n",
       "\n",
       "                             USAGE_DAY_WEEK_AND_TIME      RPRSNTV_MENU  \\\n",
       "0                         10:00-20:00\\n(19:50 라스트오더)  돌솥곤드레정식, 단호박오리훈제   \n",
       "1  24.03.12 ~ 24. 12.31 휴업중\\n11:00a.m. ~ 21:00p.m...      묵은지붕어조림, 붕어찜   \n",
       "2                                       11:00-20:00       물 밀면, 비빔밀면\\n   \n",
       "\n",
       "                                     MAIN_IMG_NORMAL  \\\n",
       "0  https://www.visitbusan.net/uploadImgs/files/cn...   \n",
       "1  https://www.visitbusan.net/uploadImgs/files/cn...   \n",
       "2  https://www.visitbusan.net/uploadImgs/files/cn...   \n",
       "\n",
       "                                      MAIN_IMG_THUMB  \\\n",
       "0  https://www.visitbusan.net/uploadImgs/files/cn...   \n",
       "1  https://www.visitbusan.net/uploadImgs/files/cn...   \n",
       "2  https://www.visitbusan.net/uploadImgs/files/cn...   \n",
       "\n",
       "                                          ITEMCNTNTS  \n",
       "0  곤드레밥에는 일반적으로 건조 곤드레나물이 사용되는데,\\n이곳은 생 곤드레나물을 사용...  \n",
       "1  30년간 운영해온 생선찜전문점으로, 전통방식인 나무통을 사용하여 조리하는 것이 특징...  \n",
       "2  유명한 밀면전문점으로, 밀가루에 옥수수 전분을 섞어, 다른 밀면전문점들보다 더 탄력...  "
      ]
     },
     "execution_count": 36,
     "metadata": {},
     "output_type": "execute_result"
    }
   ],
   "source": [
    "df.head(3)"
   ]
  },
  {
   "cell_type": "code",
   "execution_count": 37,
   "metadata": {},
   "outputs": [
    {
     "data": {
      "text/plain": [
       "'만드리곤드레밥'"
      ]
     },
     "execution_count": 37,
     "metadata": {},
     "output_type": "execute_result"
    }
   ],
   "source": [
    "df.loc[0, 'TITLE']"
   ]
  },
  {
   "cell_type": "code",
   "execution_count": 38,
   "metadata": {},
   "outputs": [
    {
     "data": {
      "text/plain": [
       "'돌솥곤드레정식, 단호박오리훈제'"
      ]
     },
     "execution_count": 38,
     "metadata": {},
     "output_type": "execute_result"
    }
   ],
   "source": [
    "df.loc[0, 'RPRSNTV_MENU']"
   ]
  },
  {
   "cell_type": "code",
   "execution_count": 39,
   "metadata": {},
   "outputs": [
    {
     "data": {
      "text/html": [
       "<div>\n",
       "<style scoped>\n",
       "    .dataframe tbody tr th:only-of-type {\n",
       "        vertical-align: middle;\n",
       "    }\n",
       "\n",
       "    .dataframe tbody tr th {\n",
       "        vertical-align: top;\n",
       "    }\n",
       "\n",
       "    .dataframe thead th {\n",
       "        text-align: right;\n",
       "    }\n",
       "</style>\n",
       "<table border=\"1\" class=\"dataframe\">\n",
       "  <thead>\n",
       "    <tr style=\"text-align: right;\">\n",
       "      <th></th>\n",
       "      <th>MAIN_TITLE</th>\n",
       "      <th>RPRSNTV_MENU</th>\n",
       "      <th>ADDR1</th>\n",
       "    </tr>\n",
       "  </thead>\n",
       "  <tbody>\n",
       "    <tr>\n",
       "      <th>0</th>\n",
       "      <td>만드리곤드레밥</td>\n",
       "      <td>돌솥곤드레정식, 단호박오리훈제</td>\n",
       "      <td>강서구 공항앞길 85번길 13</td>\n",
       "    </tr>\n",
       "    <tr>\n",
       "      <th>1</th>\n",
       "      <td>민물가든</td>\n",
       "      <td>묵은지붕어조림, 붕어찜</td>\n",
       "      <td>강서구 둔치중앙길5(봉림동)</td>\n",
       "    </tr>\n",
       "    <tr>\n",
       "      <th>2</th>\n",
       "      <td>가야할매밀면</td>\n",
       "      <td>물 밀면, 비빔밀면\\n</td>\n",
       "      <td>부산 연제구 월드컵대로 145번길 32\\n</td>\n",
       "    </tr>\n",
       "  </tbody>\n",
       "</table>\n",
       "</div>"
      ],
      "text/plain": [
       "  MAIN_TITLE      RPRSNTV_MENU                    ADDR1\n",
       "0    만드리곤드레밥  돌솥곤드레정식, 단호박오리훈제         강서구 공항앞길 85번길 13\n",
       "1       민물가든      묵은지붕어조림, 붕어찜         강서구 둔치중앙길5(봉림동) \n",
       "2     가야할매밀면      물 밀면, 비빔밀면\\n  부산 연제구 월드컵대로 145번길 32\\n"
      ]
     },
     "execution_count": 39,
     "metadata": {},
     "output_type": "execute_result"
    }
   ],
   "source": [
    "df[['MAIN_TITLE', 'RPRSNTV_MENU', 'ADDR1', ]].head(3)"
   ]
  },
  {
   "cell_type": "code",
   "execution_count": 40,
   "metadata": {},
   "outputs": [
    {
     "data": {
      "text/html": [
       "<div>\n",
       "<style scoped>\n",
       "    .dataframe tbody tr th:only-of-type {\n",
       "        vertical-align: middle;\n",
       "    }\n",
       "\n",
       "    .dataframe tbody tr th {\n",
       "        vertical-align: top;\n",
       "    }\n",
       "\n",
       "    .dataframe thead th {\n",
       "        text-align: right;\n",
       "    }\n",
       "</style>\n",
       "<table border=\"1\" class=\"dataframe\">\n",
       "  <thead>\n",
       "    <tr style=\"text-align: right;\">\n",
       "      <th></th>\n",
       "      <th>UC_SEQ</th>\n",
       "      <th>MAIN_TITLE</th>\n",
       "      <th>GUGUN_NM</th>\n",
       "      <th>LAT</th>\n",
       "      <th>LNG</th>\n",
       "      <th>PLACE</th>\n",
       "      <th>TITLE</th>\n",
       "      <th>SUBTITLE</th>\n",
       "      <th>ADDR1</th>\n",
       "      <th>ADDR2</th>\n",
       "      <th>CNTCT_TEL</th>\n",
       "      <th>HOMEPAGE_URL</th>\n",
       "      <th>USAGE_DAY_WEEK_AND_TIME</th>\n",
       "      <th>RPRSNTV_MENU</th>\n",
       "      <th>MAIN_IMG_NORMAL</th>\n",
       "      <th>MAIN_IMG_THUMB</th>\n",
       "      <th>ITEMCNTNTS</th>\n",
       "    </tr>\n",
       "  </thead>\n",
       "  <tbody>\n",
       "    <tr>\n",
       "      <th>0</th>\n",
       "      <td>70</td>\n",
       "      <td>만드리곤드레밥</td>\n",
       "      <td>강서구</td>\n",
       "      <td>35.177387</td>\n",
       "      <td>128.95245</td>\n",
       "      <td>만드리곤드레밥</td>\n",
       "      <td>만드리곤드레밥</td>\n",
       "      <td>NaN</td>\n",
       "      <td>강서구 공항앞길 85번길 13</td>\n",
       "      <td>NaN</td>\n",
       "      <td>051-941-3669</td>\n",
       "      <td>NaN</td>\n",
       "      <td>10:00-20:00\\n(19:50 라스트오더)</td>\n",
       "      <td>돌솥곤드레정식, 단호박오리훈제</td>\n",
       "      <td>https://www.visitbusan.net/uploadImgs/files/cn...</td>\n",
       "      <td>https://www.visitbusan.net/uploadImgs/files/cn...</td>\n",
       "      <td>곤드레밥에는 일반적으로 건조 곤드레나물이 사용되는데,\\n이곳은 생 곤드레나물을 사용...</td>\n",
       "    </tr>\n",
       "    <tr>\n",
       "      <th>1</th>\n",
       "      <td>77</td>\n",
       "      <td>민물가든</td>\n",
       "      <td>강서구</td>\n",
       "      <td>35.160550</td>\n",
       "      <td>128.89468</td>\n",
       "      <td>민물가든</td>\n",
       "      <td>민물가든</td>\n",
       "      <td>민물가든</td>\n",
       "      <td>강서구 둔치중앙길5(봉림동)</td>\n",
       "      <td>NaN</td>\n",
       "      <td>051-971-8428</td>\n",
       "      <td>https://blog.naver.com/rladba1</td>\n",
       "      <td>24.03.12 ~ 24. 12.31 휴업중\\n11:00a.m. ~ 21:00p.m...</td>\n",
       "      <td>묵은지붕어조림, 붕어찜</td>\n",
       "      <td>https://www.visitbusan.net/uploadImgs/files/cn...</td>\n",
       "      <td>https://www.visitbusan.net/uploadImgs/files/cn...</td>\n",
       "      <td>30년간 운영해온 생선찜전문점으로, 전통방식인 나무통을 사용하여 조리하는 것이 특징...</td>\n",
       "    </tr>\n",
       "    <tr>\n",
       "      <th>2</th>\n",
       "      <td>94</td>\n",
       "      <td>가야할매밀면</td>\n",
       "      <td>연제구</td>\n",
       "      <td>35.185196</td>\n",
       "      <td>129.07988</td>\n",
       "      <td>가야할매밀면</td>\n",
       "      <td>가야할매밀면</td>\n",
       "      <td>가야할매밀면</td>\n",
       "      <td>부산 연제구 월드컵대로 145번길 32\\n</td>\n",
       "      <td>NaN</td>\n",
       "      <td>051-865-8017</td>\n",
       "      <td>NaN</td>\n",
       "      <td>11:00-20:00</td>\n",
       "      <td>물 밀면, 비빔밀면\\n</td>\n",
       "      <td>https://www.visitbusan.net/uploadImgs/files/cn...</td>\n",
       "      <td>https://www.visitbusan.net/uploadImgs/files/cn...</td>\n",
       "      <td>유명한 밀면전문점으로, 밀가루에 옥수수 전분을 섞어, 다른 밀면전문점들보다 더 탄력...</td>\n",
       "    </tr>\n",
       "    <tr>\n",
       "      <th>3</th>\n",
       "      <td>95</td>\n",
       "      <td>국제밀면본점</td>\n",
       "      <td>연제구</td>\n",
       "      <td>35.196890</td>\n",
       "      <td>129.07785</td>\n",
       "      <td>국제밀면본점</td>\n",
       "      <td>국제밀면본점</td>\n",
       "      <td>NaN</td>\n",
       "      <td>연제구 중앙대로1235번길 23-6</td>\n",
       "      <td>NaN</td>\n",
       "      <td>051-501-5507</td>\n",
       "      <td>NaN</td>\n",
       "      <td>10:00-20:00\\n4~9월 10:00-21:00 (라스트오더 20:30 전후)\\n</td>\n",
       "      <td>물밀면, 비빔밀면</td>\n",
       "      <td>https://www.visitbusan.net/uploadImgs/files/cn...</td>\n",
       "      <td>https://www.visitbusan.net/uploadImgs/files/cn...</td>\n",
       "      <td>밀면전문점 중에서도 특히 맛으로 소문난 이곳은\\n소 사골만을 사용한 육수 등 독창적...</td>\n",
       "    </tr>\n",
       "    <tr>\n",
       "      <th>4</th>\n",
       "      <td>102</td>\n",
       "      <td>할매가야밀면</td>\n",
       "      <td>중구</td>\n",
       "      <td>35.098934</td>\n",
       "      <td>129.03122</td>\n",
       "      <td>할매가야밀면</td>\n",
       "      <td>할매가야밀면</td>\n",
       "      <td>NaN</td>\n",
       "      <td>중구 광복로 56-14</td>\n",
       "      <td>NaN</td>\n",
       "      <td>051-246-3314</td>\n",
       "      <td>NaN</td>\n",
       "      <td>10:30-21:30</td>\n",
       "      <td>밀면, 비빔밀면</td>\n",
       "      <td>https://www.visitbusan.net/uploadImgs/files/cn...</td>\n",
       "      <td>https://www.visitbusan.net/uploadImgs/files/cn...</td>\n",
       "      <td>깔끔한 맛의 육수가 인상적인 40년 전통의 밀면 전문점으로, \\n식사시간에는 항상 ...</td>\n",
       "    </tr>\n",
       "  </tbody>\n",
       "</table>\n",
       "</div>"
      ],
      "text/plain": [
       "   UC_SEQ MAIN_TITLE GUGUN_NM        LAT        LNG    PLACE    TITLE  \\\n",
       "0      70    만드리곤드레밥      강서구  35.177387  128.95245  만드리곤드레밥  만드리곤드레밥   \n",
       "1      77       민물가든      강서구  35.160550  128.89468     민물가든     민물가든   \n",
       "2      94     가야할매밀면      연제구  35.185196  129.07988   가야할매밀면   가야할매밀면   \n",
       "3      95     국제밀면본점      연제구  35.196890  129.07785   국제밀면본점   국제밀면본점   \n",
       "4     102     할매가야밀면       중구  35.098934  129.03122   할매가야밀면   할매가야밀면   \n",
       "\n",
       "  SUBTITLE                    ADDR1 ADDR2     CNTCT_TEL  \\\n",
       "0      NaN         강서구 공항앞길 85번길 13   NaN  051-941-3669   \n",
       "1     민물가든         강서구 둔치중앙길5(봉림동)    NaN  051-971-8428   \n",
       "2   가야할매밀면  부산 연제구 월드컵대로 145번길 32\\n   NaN  051-865-8017   \n",
       "3      NaN     연제구 중앙대로1235번길 23-6    NaN  051-501-5507   \n",
       "4      NaN             중구 광복로 56-14   NaN  051-246-3314   \n",
       "\n",
       "                     HOMEPAGE_URL  \\\n",
       "0                             NaN   \n",
       "1  https://blog.naver.com/rladba1   \n",
       "2                             NaN   \n",
       "3                             NaN   \n",
       "4                             NaN   \n",
       "\n",
       "                             USAGE_DAY_WEEK_AND_TIME      RPRSNTV_MENU  \\\n",
       "0                         10:00-20:00\\n(19:50 라스트오더)  돌솥곤드레정식, 단호박오리훈제   \n",
       "1  24.03.12 ~ 24. 12.31 휴업중\\n11:00a.m. ~ 21:00p.m...      묵은지붕어조림, 붕어찜   \n",
       "2                                       11:00-20:00       물 밀면, 비빔밀면\\n   \n",
       "3   10:00-20:00\\n4~9월 10:00-21:00 (라스트오더 20:30 전후)\\n         물밀면, 비빔밀면   \n",
       "4                                        10:30-21:30          밀면, 비빔밀면   \n",
       "\n",
       "                                     MAIN_IMG_NORMAL  \\\n",
       "0  https://www.visitbusan.net/uploadImgs/files/cn...   \n",
       "1  https://www.visitbusan.net/uploadImgs/files/cn...   \n",
       "2  https://www.visitbusan.net/uploadImgs/files/cn...   \n",
       "3  https://www.visitbusan.net/uploadImgs/files/cn...   \n",
       "4  https://www.visitbusan.net/uploadImgs/files/cn...   \n",
       "\n",
       "                                      MAIN_IMG_THUMB  \\\n",
       "0  https://www.visitbusan.net/uploadImgs/files/cn...   \n",
       "1  https://www.visitbusan.net/uploadImgs/files/cn...   \n",
       "2  https://www.visitbusan.net/uploadImgs/files/cn...   \n",
       "3  https://www.visitbusan.net/uploadImgs/files/cn...   \n",
       "4  https://www.visitbusan.net/uploadImgs/files/cn...   \n",
       "\n",
       "                                          ITEMCNTNTS  \n",
       "0  곤드레밥에는 일반적으로 건조 곤드레나물이 사용되는데,\\n이곳은 생 곤드레나물을 사용...  \n",
       "1  30년간 운영해온 생선찜전문점으로, 전통방식인 나무통을 사용하여 조리하는 것이 특징...  \n",
       "2  유명한 밀면전문점으로, 밀가루에 옥수수 전분을 섞어, 다른 밀면전문점들보다 더 탄력...  \n",
       "3  밀면전문점 중에서도 특히 맛으로 소문난 이곳은\\n소 사골만을 사용한 육수 등 독창적...  \n",
       "4  깔끔한 맛의 육수가 인상적인 40년 전통의 밀면 전문점으로, \\n식사시간에는 항상 ...  "
      ]
     },
     "execution_count": 40,
     "metadata": {},
     "output_type": "execute_result"
    }
   ],
   "source": [
    "df2 = pd.read_csv('food_data.csv')\n",
    "df2.head(5)"
   ]
  },
  {
   "cell_type": "code",
   "execution_count": 41,
   "metadata": {},
   "outputs": [
    {
     "data": {
      "text/plain": [
       "0    돌솥곤드레정식, 단호박오리훈제\n",
       "1        묵은지붕어조림, 붕어찜\n",
       "2        물 밀면, 비빔밀면\\n\n",
       "3           물밀면, 비빔밀면\n",
       "4            밀면, 비빔밀면\n",
       "Name: RPRSNTV_MENU, dtype: object"
      ]
     },
     "execution_count": 41,
     "metadata": {},
     "output_type": "execute_result"
    }
   ],
   "source": [
    "df2['RPRSNTV_MENU'].head(5)"
   ]
  },
  {
   "cell_type": "code",
   "execution_count": 43,
   "metadata": {},
   "outputs": [],
   "source": [
    "def clean_data(x):\n",
    "    if isinstance(x, str):\n",
    "        list = x.split(',')\n",
    "        list = [item.replace('\\n', '').strip() for item in list]\n",
    "        return list\n",
    "    "
   ]
  },
  {
   "cell_type": "code",
   "execution_count": 44,
   "metadata": {},
   "outputs": [
    {
     "data": {
      "text/plain": [
       "['물 밀면', '비빔밀면']"
      ]
     },
     "execution_count": 44,
     "metadata": {},
     "output_type": "execute_result"
    }
   ],
   "source": [
    "clean_data(df2.loc[2, 'RPRSNTV_MENU'])\n"
   ]
  },
  {
   "cell_type": "code",
   "execution_count": 45,
   "metadata": {},
   "outputs": [
    {
     "data": {
      "text/plain": [
       "0    [돌솥곤드레정식, 단호박오리훈제]\n",
       "1        [묵은지붕어조림, 붕어찜]\n",
       "2          [물 밀면, 비빔밀면]\n",
       "Name: RPRSNTV_MENU, dtype: object"
      ]
     },
     "execution_count": 45,
     "metadata": {},
     "output_type": "execute_result"
    }
   ],
   "source": [
    "df2['RPRSNTV_MENU'] = df2['RPRSNTV_MENU'].apply(clean_data)\n",
    "df2['RPRSNTV_MENU'].head(3)"
   ]
  },
  {
   "cell_type": "code",
   "execution_count": 46,
   "metadata": {},
   "outputs": [
    {
     "data": {
      "text/html": [
       "<div>\n",
       "<style scoped>\n",
       "    .dataframe tbody tr th:only-of-type {\n",
       "        vertical-align: middle;\n",
       "    }\n",
       "\n",
       "    .dataframe tbody tr th {\n",
       "        vertical-align: top;\n",
       "    }\n",
       "\n",
       "    .dataframe thead th {\n",
       "        text-align: right;\n",
       "    }\n",
       "</style>\n",
       "<table border=\"1\" class=\"dataframe\">\n",
       "  <thead>\n",
       "    <tr style=\"text-align: right;\">\n",
       "      <th></th>\n",
       "      <th>MAIN_TITLE</th>\n",
       "      <th>RPRSNTV_MENU</th>\n",
       "      <th>ADDR1</th>\n",
       "    </tr>\n",
       "  </thead>\n",
       "  <tbody>\n",
       "    <tr>\n",
       "      <th>0</th>\n",
       "      <td>만드리곤드레밥</td>\n",
       "      <td>[돌솥곤드레정식, 단호박오리훈제]</td>\n",
       "      <td>강서구 공항앞길 85번길 13</td>\n",
       "    </tr>\n",
       "    <tr>\n",
       "      <th>1</th>\n",
       "      <td>민물가든</td>\n",
       "      <td>[묵은지붕어조림, 붕어찜]</td>\n",
       "      <td>강서구 둔치중앙길5(봉림동)</td>\n",
       "    </tr>\n",
       "    <tr>\n",
       "      <th>2</th>\n",
       "      <td>가야할매밀면</td>\n",
       "      <td>[물 밀면, 비빔밀면]</td>\n",
       "      <td>부산 연제구 월드컵대로 145번길 32\\n</td>\n",
       "    </tr>\n",
       "    <tr>\n",
       "      <th>3</th>\n",
       "      <td>국제밀면본점</td>\n",
       "      <td>[물밀면, 비빔밀면]</td>\n",
       "      <td>연제구 중앙대로1235번길 23-6</td>\n",
       "    </tr>\n",
       "    <tr>\n",
       "      <th>4</th>\n",
       "      <td>할매가야밀면</td>\n",
       "      <td>[밀면, 비빔밀면]</td>\n",
       "      <td>중구 광복로 56-14</td>\n",
       "    </tr>\n",
       "    <tr>\n",
       "      <th>5</th>\n",
       "      <td>거인통닭</td>\n",
       "      <td>[후라이드치킨]</td>\n",
       "      <td>중구 중구로47번길34</td>\n",
       "    </tr>\n",
       "    <tr>\n",
       "      <th>6</th>\n",
       "      <td>부산꼼장어맛집 성일집</td>\n",
       "      <td>[소금구이, 양념구이]</td>\n",
       "      <td>중구 대교로 103</td>\n",
       "    </tr>\n",
       "    <tr>\n",
       "      <th>7</th>\n",
       "      <td>배비장보쌈구서본점</td>\n",
       "      <td>[배비장보쌈, 모듬보쌈]</td>\n",
       "      <td>금정구 금정로 239</td>\n",
       "    </tr>\n",
       "    <tr>\n",
       "      <th>8</th>\n",
       "      <td>장수장 꼬리곰탕</td>\n",
       "      <td>[꼬리곰탕, 한우 도가니탕]</td>\n",
       "      <td>북구 사상로 581</td>\n",
       "    </tr>\n",
       "    <tr>\n",
       "      <th>9</th>\n",
       "      <td>금수복국 해운대본점</td>\n",
       "      <td>[은복국 (지리 / 탕), 밀복국 (지리 / 탕)]</td>\n",
       "      <td>해운대구 중동1로 43번길23</td>\n",
       "    </tr>\n",
       "    <tr>\n",
       "      <th>10</th>\n",
       "      <td>다온 한정식</td>\n",
       "      <td>[다온상(1인), 송아리(1인)]</td>\n",
       "      <td>부산 해운대구 해운대해변로 154 마리나동원8층</td>\n",
       "    </tr>\n",
       "    <tr>\n",
       "      <th>11</th>\n",
       "      <td>할매재첩국집</td>\n",
       "      <td>[재첩국, 재첩회]</td>\n",
       "      <td>사상구 낙동대로1530번길 20-15</td>\n",
       "    </tr>\n",
       "    <tr>\n",
       "      <th>12</th>\n",
       "      <td>예이제</td>\n",
       "      <td>[런치, 예이제 코스]</td>\n",
       "      <td>부산 해운대구 해운대해변로298번길 29 해운대푸르지오시티 2층</td>\n",
       "    </tr>\n",
       "    <tr>\n",
       "      <th>13</th>\n",
       "      <td>합천일류돼지국밥</td>\n",
       "      <td>[고기국밥, 수육백반]</td>\n",
       "      <td>사상구 광장로 34</td>\n",
       "    </tr>\n",
       "    <tr>\n",
       "      <th>14</th>\n",
       "      <td>원조석대추어탕</td>\n",
       "      <td>[추어탕, 가오리찜]</td>\n",
       "      <td>부산 해운대구 반송로 571번길 5</td>\n",
       "    </tr>\n",
       "    <tr>\n",
       "      <th>15</th>\n",
       "      <td>할매복국</td>\n",
       "      <td>[복지리, 흰밀복수육]</td>\n",
       "      <td>달맞이길62번길 1\\n</td>\n",
       "    </tr>\n",
       "    <tr>\n",
       "      <th>16</th>\n",
       "      <td>신창국밥 본점</td>\n",
       "      <td>[왕순대국밥, 수육]</td>\n",
       "      <td>서구 보수대로 53</td>\n",
       "    </tr>\n",
       "    <tr>\n",
       "      <th>17</th>\n",
       "      <td>평안도족발</td>\n",
       "      <td>[족발, 마늘족발]</td>\n",
       "      <td>부산 해운대구 달맞이길 14\\n</td>\n",
       "    </tr>\n",
       "    <tr>\n",
       "      <th>18</th>\n",
       "      <td>한우숯불양곱창</td>\n",
       "      <td>[특양(200g), 전골]</td>\n",
       "      <td>부산 해운대구 해운대해변로 385\\n</td>\n",
       "    </tr>\n",
       "    <tr>\n",
       "      <th>19</th>\n",
       "      <td>쌍둥이돼지국밥 본점</td>\n",
       "      <td>[돼지국밥, 수육백반]</td>\n",
       "      <td>남구 유엔평화로 35-1</td>\n",
       "    </tr>\n",
       "    <tr>\n",
       "      <th>20</th>\n",
       "      <td>베지나랑</td>\n",
       "      <td>[흑미콩까스, 아보카도 롤]</td>\n",
       "      <td>수영구 광안해변로370번길 9-32 노블스카이 9층</td>\n",
       "    </tr>\n",
       "    <tr>\n",
       "      <th>21</th>\n",
       "      <td>석화한정식</td>\n",
       "      <td>[석화 한정식, 석화고향 한정식]</td>\n",
       "      <td>부산광역시 동구 조방로 21</td>\n",
       "    </tr>\n",
       "    <tr>\n",
       "      <th>22</th>\n",
       "      <td>내당</td>\n",
       "      <td>[일품한상(평일점심특선) 1인, 연코스(코스메뉴) 1인]</td>\n",
       "      <td>동래구 금강공원로 20번길 23 호텔농심 별관</td>\n",
       "    </tr>\n",
       "    <tr>\n",
       "      <th>23</th>\n",
       "      <td>봉식당</td>\n",
       "      <td>[S코스, A코스]</td>\n",
       "      <td>부산 동래구 온천장로119번길 26</td>\n",
       "    </tr>\n",
       "    <tr>\n",
       "      <th>24</th>\n",
       "      <td>60년 전통 할매국밥</td>\n",
       "      <td>[따로 국밥, 수육백반]</td>\n",
       "      <td>동구 중앙대로533번길 4</td>\n",
       "    </tr>\n",
       "    <tr>\n",
       "      <th>25</th>\n",
       "      <td>함경면옥</td>\n",
       "      <td>[냉면, 왕갈비탕, 왕만두 소]</td>\n",
       "      <td>부산광역시 동래구 온천장로 64 1층</td>\n",
       "    </tr>\n",
       "    <tr>\n",
       "      <th>26</th>\n",
       "      <td>왔다식당</td>\n",
       "      <td>[스지수육, 스지 된장전골]</td>\n",
       "      <td>영도구 하나길 811</td>\n",
       "    </tr>\n",
       "    <tr>\n",
       "      <th>27</th>\n",
       "      <td>구포촌국수</td>\n",
       "      <td>[국수]</td>\n",
       "      <td>부산 금정구 금샘로 490</td>\n",
       "    </tr>\n",
       "    <tr>\n",
       "      <th>28</th>\n",
       "      <td>얼크니손칼국수</td>\n",
       "      <td>[얼크니손칼국수, 만두]</td>\n",
       "      <td>부산 기장군 기장읍 차성로 417번길 22</td>\n",
       "    </tr>\n",
       "    <tr>\n",
       "      <th>29</th>\n",
       "      <td>탐복</td>\n",
       "      <td>[탐복죽, 탐복밥, 탐복구이]</td>\n",
       "      <td>부산 기장군 일광면 문오성길 31</td>\n",
       "    </tr>\n",
       "    <tr>\n",
       "      <th>30</th>\n",
       "      <td>곤국</td>\n",
       "      <td>[한우 곰탕, 한우스지수육]</td>\n",
       "      <td>부산 남구 황령대로74번길 51-1 1층</td>\n",
       "    </tr>\n",
       "    <tr>\n",
       "      <th>31</th>\n",
       "      <td>해남식당 부산용호동W스퀘어점</td>\n",
       "      <td>[묵은지수육한판, 옛날김치찌개]</td>\n",
       "      <td>부산광역시 남구 분포로 145 1072,1073호(용호동, 더블유)</td>\n",
       "    </tr>\n",
       "    <tr>\n",
       "      <th>32</th>\n",
       "      <td>범일빈대떡</td>\n",
       "      <td>[빈대떡, 파전]</td>\n",
       "      <td>동구 중앙대로 519</td>\n",
       "    </tr>\n",
       "    <tr>\n",
       "      <th>33</th>\n",
       "      <td>금강만두</td>\n",
       "      <td>[충무세트(충무김밥+만두국), 육개장]</td>\n",
       "      <td>부산 동래구 사직북로5번길 11</td>\n",
       "    </tr>\n",
       "    <tr>\n",
       "      <th>34</th>\n",
       "      <td>석화정</td>\n",
       "      <td>[굴국밥, 생굴]</td>\n",
       "      <td>영도구 동삼로 42번길 16-11</td>\n",
       "    </tr>\n",
       "    <tr>\n",
       "      <th>35</th>\n",
       "      <td>연산낙지해물탕</td>\n",
       "      <td>[해물탕, 산낙지전골]</td>\n",
       "      <td>부산 연제구 과정로 121\\n</td>\n",
       "    </tr>\n",
       "    <tr>\n",
       "      <th>36</th>\n",
       "      <td>옻바다전복삼계탕</td>\n",
       "      <td>[옻삼계탕, 삼계탕]</td>\n",
       "      <td>부산 연제구 월드컵대로 119번길 16\\n</td>\n",
       "    </tr>\n",
       "    <tr>\n",
       "      <th>37</th>\n",
       "      <td>다리집 본점</td>\n",
       "      <td>[떡볶이, A세트]</td>\n",
       "      <td>수영구 남천바다로10번길 70 101호\\n</td>\n",
       "    </tr>\n",
       "    <tr>\n",
       "      <th>38</th>\n",
       "      <td>광안리 언양불고기 부산집</td>\n",
       "      <td>[언양불고기]</td>\n",
       "      <td>부산 수영구 남천바다로 32\\n</td>\n",
       "    </tr>\n",
       "    <tr>\n",
       "      <th>39</th>\n",
       "      <td>식당 3선 덕천점</td>\n",
       "      <td>[양념돼지갈비(330g), 고추장돼지갈비(330g)]</td>\n",
       "      <td>부산 북구 금곡대로 112</td>\n",
       "    </tr>\n",
       "    <tr>\n",
       "      <th>40</th>\n",
       "      <td>함경면옥 덕천점</td>\n",
       "      <td>[물냉면, 회비빔면]</td>\n",
       "      <td>부산 북구 금곡대로 21</td>\n",
       "    </tr>\n",
       "    <tr>\n",
       "      <th>41</th>\n",
       "      <td>몽실종가돼지국밥 감천문화마을 본점</td>\n",
       "      <td>[돼지국밥, 수육]</td>\n",
       "      <td>서구 까치고개로 197번길 3, 1층</td>\n",
       "    </tr>\n",
       "    <tr>\n",
       "      <th>42</th>\n",
       "      <td>동원장수촌</td>\n",
       "      <td>[녹두한방백숙, 능이백숙]</td>\n",
       "      <td>사하구 동매로 117 건우리안 상가 B 201호</td>\n",
       "    </tr>\n",
       "    <tr>\n",
       "      <th>43</th>\n",
       "      <td>포항가자미물회국수말이전문점</td>\n",
       "      <td>[여름물회, 겨울물회]</td>\n",
       "      <td>부산광역시 사상구 사상로 275-1\\n</td>\n",
       "    </tr>\n",
       "    <tr>\n",
       "      <th>44</th>\n",
       "      <td>괘법쭈꾸미전문점</td>\n",
       "      <td>[웰빙쭈꾸미]</td>\n",
       "      <td>부산 사상구 광장로81번길 33</td>\n",
       "    </tr>\n",
       "    <tr>\n",
       "      <th>45</th>\n",
       "      <td>삼진어묵 본점</td>\n",
       "      <td>None</td>\n",
       "      <td>부산시 영도구 태종로99번길 36</td>\n",
       "    </tr>\n",
       "    <tr>\n",
       "      <th>46</th>\n",
       "      <td>명지첫집 국제신도시본점</td>\n",
       "      <td>[쭈꾸미보쌈, 보쌈정식 점심특선 2인]</td>\n",
       "      <td>강서구 명지국제6로232번길 18</td>\n",
       "    </tr>\n",
       "    <tr>\n",
       "      <th>47</th>\n",
       "      <td>명품외식 육면정</td>\n",
       "      <td>[생진갈비살150g, 양념갈비300g, 갈비살양념구이250g]</td>\n",
       "      <td>남구 황령대로 329</td>\n",
       "    </tr>\n",
       "    <tr>\n",
       "      <th>48</th>\n",
       "      <td>평산옥</td>\n",
       "      <td>[수육, 국수, 열무국수]</td>\n",
       "      <td>동구 초량중로 26</td>\n",
       "    </tr>\n",
       "    <tr>\n",
       "      <th>49</th>\n",
       "      <td>공감식당</td>\n",
       "      <td>[선별숙성삼겹살130g, 선별숙성목살130g]</td>\n",
       "      <td>부산진구 동평로 81</td>\n",
       "    </tr>\n",
       "    <tr>\n",
       "      <th>50</th>\n",
       "      <td>다옴 서면 삼정타워점</td>\n",
       "      <td>[차돌박이비빔국수, 칼국수, 비빔밥]</td>\n",
       "      <td>부산진구 중앙대로 672, 삼정타워 5층</td>\n",
       "    </tr>\n",
       "    <tr>\n",
       "      <th>51</th>\n",
       "      <td>당감밀면</td>\n",
       "      <td>[밀면, 비빔밀면, 손만두4개/8개, 손칼국수]</td>\n",
       "      <td>부산진구 당감로 5 삼익아파트상가 B동 1층</td>\n",
       "    </tr>\n",
       "    <tr>\n",
       "      <th>52</th>\n",
       "      <td>양평칼국수 본점</td>\n",
       "      <td>[양평칼국수, 비빔칼국수, 멸치칼국수, 고기만두]</td>\n",
       "      <td>사하구 다대로 680-1</td>\n",
       "    </tr>\n",
       "    <tr>\n",
       "      <th>53</th>\n",
       "      <td>영진돼지국밥 본점</td>\n",
       "      <td>[수육백반, 돼지국밥]</td>\n",
       "      <td>사하구 하신번영로157번길 39</td>\n",
       "    </tr>\n",
       "    <tr>\n",
       "      <th>54</th>\n",
       "      <td>동원숯불갈비</td>\n",
       "      <td>[돼지갈비230g]</td>\n",
       "      <td>연제구 과정로276번길 9</td>\n",
       "    </tr>\n",
       "    <tr>\n",
       "      <th>55</th>\n",
       "      <td>도날드</td>\n",
       "      <td>[2인Set, 3인Set]</td>\n",
       "      <td>영도구 꿈나무길 267(1층)</td>\n",
       "    </tr>\n",
       "    <tr>\n",
       "      <th>56</th>\n",
       "      <td>함흥보쌈사계절냉면</td>\n",
       "      <td>[모둠보쌈 소/중/대, 함흥냉면, 평양냉면]</td>\n",
       "      <td>영도구 남항로 42</td>\n",
       "    </tr>\n",
       "    <tr>\n",
       "      <th>57</th>\n",
       "      <td>원산면옥</td>\n",
       "      <td>[평양냉면, 함흥냉면]</td>\n",
       "      <td>중구 광복로 56-8</td>\n",
       "    </tr>\n",
       "    <tr>\n",
       "      <th>58</th>\n",
       "      <td>개미집신도시점</td>\n",
       "      <td>[낙지볶음, 곱창전골]</td>\n",
       "      <td>해운대구 좌동로 10번길 51-5</td>\n",
       "    </tr>\n",
       "    <tr>\n",
       "      <th>59</th>\n",
       "      <td>오리한상 명지본점</td>\n",
       "      <td>[오리소금구이, 오리양념구이]</td>\n",
       "      <td>명지국제9로 66, 지봉빌딩 2층</td>\n",
       "    </tr>\n",
       "  </tbody>\n",
       "</table>\n",
       "</div>"
      ],
      "text/plain": [
       "            MAIN_TITLE                        RPRSNTV_MENU  \\\n",
       "0              만드리곤드레밥                  [돌솥곤드레정식, 단호박오리훈제]   \n",
       "1                 민물가든                      [묵은지붕어조림, 붕어찜]   \n",
       "2               가야할매밀면                        [물 밀면, 비빔밀면]   \n",
       "3               국제밀면본점                         [물밀면, 비빔밀면]   \n",
       "4               할매가야밀면                          [밀면, 비빔밀면]   \n",
       "5                 거인통닭                            [후라이드치킨]   \n",
       "6          부산꼼장어맛집 성일집                        [소금구이, 양념구이]   \n",
       "7            배비장보쌈구서본점                       [배비장보쌈, 모듬보쌈]   \n",
       "8             장수장 꼬리곰탕                     [꼬리곰탕, 한우 도가니탕]   \n",
       "9           금수복국 해운대본점        [은복국 (지리 / 탕), 밀복국 (지리 / 탕)]   \n",
       "10              다온 한정식                  [다온상(1인), 송아리(1인)]   \n",
       "11              할매재첩국집                          [재첩국, 재첩회]   \n",
       "12                 예이제                        [런치, 예이제 코스]   \n",
       "13            합천일류돼지국밥                        [고기국밥, 수육백반]   \n",
       "14             원조석대추어탕                         [추어탕, 가오리찜]   \n",
       "15                할매복국                        [복지리, 흰밀복수육]   \n",
       "16             신창국밥 본점                         [왕순대국밥, 수육]   \n",
       "17               평안도족발                          [족발, 마늘족발]   \n",
       "18             한우숯불양곱창                      [특양(200g), 전골]   \n",
       "19          쌍둥이돼지국밥 본점                        [돼지국밥, 수육백반]   \n",
       "20                베지나랑                     [흑미콩까스, 아보카도 롤]   \n",
       "21               석화한정식                  [석화 한정식, 석화고향 한정식]   \n",
       "22                  내당     [일품한상(평일점심특선) 1인, 연코스(코스메뉴) 1인]   \n",
       "23                 봉식당                          [S코스, A코스]   \n",
       "24         60년 전통 할매국밥                       [따로 국밥, 수육백반]   \n",
       "25                함경면옥                   [냉면, 왕갈비탕, 왕만두 소]   \n",
       "26                왔다식당                     [스지수육, 스지 된장전골]   \n",
       "27               구포촌국수                                [국수]   \n",
       "28             얼크니손칼국수                       [얼크니손칼국수, 만두]   \n",
       "29                  탐복                    [탐복죽, 탐복밥, 탐복구이]   \n",
       "30                  곤국                     [한우 곰탕, 한우스지수육]   \n",
       "31     해남식당 부산용호동W스퀘어점                   [묵은지수육한판, 옛날김치찌개]   \n",
       "32               범일빈대떡                           [빈대떡, 파전]   \n",
       "33                금강만두               [충무세트(충무김밥+만두국), 육개장]   \n",
       "34                 석화정                           [굴국밥, 생굴]   \n",
       "35             연산낙지해물탕                        [해물탕, 산낙지전골]   \n",
       "36            옻바다전복삼계탕                         [옻삼계탕, 삼계탕]   \n",
       "37              다리집 본점                          [떡볶이, A세트]   \n",
       "38       광안리 언양불고기 부산집                             [언양불고기]   \n",
       "39           식당 3선 덕천점       [양념돼지갈비(330g), 고추장돼지갈비(330g)]   \n",
       "40            함경면옥 덕천점                         [물냉면, 회비빔면]   \n",
       "41  몽실종가돼지국밥 감천문화마을 본점                          [돼지국밥, 수육]   \n",
       "42               동원장수촌                      [녹두한방백숙, 능이백숙]   \n",
       "43      포항가자미물회국수말이전문점                        [여름물회, 겨울물회]   \n",
       "44            괘법쭈꾸미전문점                             [웰빙쭈꾸미]   \n",
       "45             삼진어묵 본점                                None   \n",
       "46        명지첫집 국제신도시본점               [쭈꾸미보쌈, 보쌈정식 점심특선 2인]   \n",
       "47            명품외식 육면정  [생진갈비살150g, 양념갈비300g, 갈비살양념구이250g]   \n",
       "48                 평산옥                      [수육, 국수, 열무국수]   \n",
       "49                공감식당           [선별숙성삼겹살130g, 선별숙성목살130g]   \n",
       "50         다옴 서면 삼정타워점                [차돌박이비빔국수, 칼국수, 비빔밥]   \n",
       "51                당감밀면          [밀면, 비빔밀면, 손만두4개/8개, 손칼국수]   \n",
       "52            양평칼국수 본점         [양평칼국수, 비빔칼국수, 멸치칼국수, 고기만두]   \n",
       "53           영진돼지국밥 본점                        [수육백반, 돼지국밥]   \n",
       "54              동원숯불갈비                          [돼지갈비230g]   \n",
       "55                 도날드                      [2인Set, 3인Set]   \n",
       "56           함흥보쌈사계절냉면            [모둠보쌈 소/중/대, 함흥냉면, 평양냉면]   \n",
       "57                원산면옥                        [평양냉면, 함흥냉면]   \n",
       "58             개미집신도시점                        [낙지볶음, 곱창전골]   \n",
       "59           오리한상 명지본점                    [오리소금구이, 오리양념구이]   \n",
       "\n",
       "                                    ADDR1  \n",
       "0                        강서구 공항앞길 85번길 13  \n",
       "1                        강서구 둔치중앙길5(봉림동)   \n",
       "2                 부산 연제구 월드컵대로 145번길 32\\n  \n",
       "3                    연제구 중앙대로1235번길 23-6   \n",
       "4                            중구 광복로 56-14  \n",
       "5                            중구 중구로47번길34  \n",
       "6                              중구 대교로 103  \n",
       "7                             금정구 금정로 239  \n",
       "8                              북구 사상로 581  \n",
       "9                        해운대구 중동1로 43번길23  \n",
       "10             부산 해운대구 해운대해변로 154 마리나동원8층  \n",
       "11                   사상구 낙동대로1530번길 20-15  \n",
       "12    부산 해운대구 해운대해변로298번길 29 해운대푸르지오시티 2층  \n",
       "13                             사상구 광장로 34  \n",
       "14                    부산 해운대구 반송로 571번길 5  \n",
       "15                           달맞이길62번길 1\\n  \n",
       "16                             서구 보수대로 53  \n",
       "17                      부산 해운대구 달맞이길 14\\n  \n",
       "18                   부산 해운대구 해운대해변로 385\\n  \n",
       "19                          남구 유엔평화로 35-1  \n",
       "20           수영구 광안해변로370번길 9-32 노블스카이 9층  \n",
       "21                        부산광역시 동구 조방로 21  \n",
       "22              동래구 금강공원로 20번길 23 호텔농심 별관  \n",
       "23                    부산 동래구 온천장로119번길 26  \n",
       "24                         동구 중앙대로533번길 4  \n",
       "25                   부산광역시 동래구 온천장로 64 1층  \n",
       "26                            영도구 하나길 811  \n",
       "27                         부산 금정구 금샘로 490  \n",
       "28                부산 기장군 기장읍 차성로 417번길 22  \n",
       "29                     부산 기장군 일광면 문오성길 31  \n",
       "30                 부산 남구 황령대로74번길 51-1 1층  \n",
       "31  부산광역시 남구 분포로 145 1072,1073호(용호동, 더블유)  \n",
       "32                            동구 중앙대로 519  \n",
       "33                      부산 동래구 사직북로5번길 11  \n",
       "34                     영도구 동삼로 42번길 16-11  \n",
       "35                       부산 연제구 과정로 121\\n  \n",
       "36                부산 연제구 월드컵대로 119번길 16\\n  \n",
       "37                수영구 남천바다로10번길 70 101호\\n  \n",
       "38                      부산 수영구 남천바다로 32\\n  \n",
       "39                         부산 북구 금곡대로 112  \n",
       "40                          부산 북구 금곡대로 21  \n",
       "41                   서구 까치고개로 197번길 3, 1층  \n",
       "42             사하구 동매로 117 건우리안 상가 B 201호  \n",
       "43                  부산광역시 사상구 사상로 275-1\\n  \n",
       "44                      부산 사상구 광장로81번길 33  \n",
       "45                    부산시 영도구 태종로99번길 36   \n",
       "46                     강서구 명지국제6로232번길 18  \n",
       "47                            남구 황령대로 329  \n",
       "48                             동구 초량중로 26  \n",
       "49                            부산진구 동평로 81  \n",
       "50                 부산진구 중앙대로 672, 삼정타워 5층  \n",
       "51               부산진구 당감로 5 삼익아파트상가 B동 1층  \n",
       "52                          사하구 다대로 680-1  \n",
       "53                      사하구 하신번영로157번길 39  \n",
       "54                         연제구 과정로276번길 9  \n",
       "55                       영도구 꿈나무길 267(1층)  \n",
       "56                             영도구 남항로 42  \n",
       "57                            중구 광복로 56-8  \n",
       "58                     해운대구 좌동로 10번길 51-5  \n",
       "59                     명지국제9로 66, 지봉빌딩 2층  "
      ]
     },
     "execution_count": 46,
     "metadata": {},
     "output_type": "execute_result"
    }
   ],
   "source": [
    "df2[['MAIN_TITLE', 'RPRSNTV_MENU', 'ADDR1' ]].head(60)\n"
   ]
  },
  {
   "cell_type": "markdown",
   "metadata": {},
   "source": [
    "#### 위 데이터들을 하나로 합쳐서 벡터화 "
   ]
  },
  {
   "cell_type": "code",
   "execution_count": 49,
   "metadata": {},
   "outputs": [
    {
     "data": {
      "text/plain": [
       "0               만드리곤드레밥 돌솥곤드레정식 단호박오리훈제 강서구 공항앞길 85번길 13\n",
       "1                      민물가든 묵은지붕어조림 붕어찜 강서구 둔치중앙길5(봉림동) \n",
       "2               가야할매밀면 물 밀면 비빔밀면 부산 연제구 월드컵대로 145번길 32\\n\n",
       "3                   국제밀면본점 물밀면 비빔밀면 연제구 중앙대로1235번길 23-6 \n",
       "4                            할매가야밀면 밀면 비빔밀면 중구 광복로 56-14\n",
       "                             ...                        \n",
       "389    옵스 학원전 참치빵 자연효모빵 명란바게트 크림치즈허니 당근케이크 브리오슈롤 소금빵 ...\n",
       "390    모모스커피 오늘의핸드드립 아메리카노 에스프레소 캉캉 콜드브루 카페라테 시즈널티 레몬...\n",
       "391    베르크로스터스 에스프레소 아메리카노 필터커피 카페라테 콜드브루 얼그레이 베이글 부산...\n",
       "392    블랙업커피 핸드드립커피 에스프레소 아메리카노 유기농밀크티 빅토리아딸기케이크 말차쇼콜...\n",
       "393    히떼로스터리 에스프레소 아메리카노 카페라테 플랫화이트 바닐라라테 아인슈페너 필터커피...\n",
       "Name: soup, Length: 394, dtype: object"
      ]
     },
     "execution_count": 49,
     "metadata": {},
     "output_type": "execute_result"
    }
   ],
   "source": [
    "# None 값이 있는 경우 [] 로 변환해주는 코드\n",
    "df2['RPRSNTV_MENU'] = df2['RPRSNTV_MENU'].apply(lambda x: x if x is not None else [])\n",
    "\n",
    "def create_soup(x):\n",
    "    return x['MAIN_TITLE'] + ' ' + ' '.join(map(str, x['RPRSNTV_MENU'])) + ' ' + x['ADDR1']\n",
    "\n",
    "df2['soup'] = df2.apply(create_soup, axis=1)\n",
    "df2['soup']"
   ]
  },
  {
   "cell_type": "code",
   "execution_count": 50,
   "metadata": {},
   "outputs": [
    {
     "data": {
      "text/plain": [
       "<Compressed Sparse Row sparse matrix of dtype 'int64'\n",
       "\twith 4429 stored elements and shape (394, 1384)>"
      ]
     },
     "execution_count": 50,
     "metadata": {},
     "output_type": "execute_result"
    }
   ],
   "source": [
    "from sklearn.feature_extraction.text import CountVectorizer\n",
    "from konlpy.tag import Komoran\n",
    "komoran = Komoran()\n",
    "\n",
    "count = CountVectorizer(tokenizer=komoran.nouns, token_pattern=None)\n",
    "count_matrix = count.fit_transform(df2['soup'])\n",
    "count_matrix"
   ]
  },
  {
   "cell_type": "code",
   "execution_count": 51,
   "metadata": {},
   "outputs": [
    {
     "data": {
      "text/plain": [
       "array([[1.        , 0.11268723, 0.1028689 , ..., 0.11664237, 0.11227218,\n",
       "        0.        ],\n",
       "       [0.11268723, 1.        , 0.06085806, ..., 0.06900656, 0.04428074,\n",
       "        0.        ],\n",
       "       [0.1028689 , 0.06085806, 1.        , ..., 0.18898224, 0.12126781,\n",
       "        0.0410305 ],\n",
       "       ...,\n",
       "       [0.11664237, 0.06900656, 0.18898224, ..., 1.        , 0.41251432,\n",
       "        0.37219368],\n",
       "       [0.11227218, 0.04428074, 0.12126781, ..., 0.41251432, 1.        ,\n",
       "        0.23883257],\n",
       "       [0.        , 0.        , 0.0410305 , ..., 0.37219368, 0.23883257,\n",
       "        1.        ]], shape=(394, 394))"
      ]
     },
     "execution_count": 51,
     "metadata": {},
     "output_type": "execute_result"
    }
   ],
   "source": [
    "from sklearn.metrics.pairwise import cosine_similarity\n",
    "cosine_sim2 = cosine_similarity(count_matrix, count_matrix)\n",
    "cosine_sim2"
   ]
  },
  {
   "cell_type": "code",
   "execution_count": 52,
   "metadata": {},
   "outputs": [
    {
     "data": {
      "text/plain": [
       "np.int64(3)"
      ]
     },
     "execution_count": 52,
     "metadata": {},
     "output_type": "execute_result"
    }
   ],
   "source": [
    "indices['국제밀면본점']"
   ]
  },
  {
   "cell_type": "code",
   "execution_count": 53,
   "metadata": {},
   "outputs": [
    {
     "data": {
      "text/plain": [
       "MAIN_TITLE\n",
       "만드리곤드레밥      0\n",
       "민물가든         1\n",
       "가야할매밀면       2\n",
       "국제밀면본점       3\n",
       "할매가야밀면       4\n",
       "          ... \n",
       "옵스         389\n",
       "모모스커피      390\n",
       "베르크로스터스    391\n",
       "블랙업커피      392\n",
       "히떼로스터리     393\n",
       "Length: 394, dtype: int64"
      ]
     },
     "execution_count": 53,
     "metadata": {},
     "output_type": "execute_result"
    }
   ],
   "source": [
    "df2 = df2.reset_index()\n",
    "indices = pd.Series(df2.index, index=df2['MAIN_TITLE'])\n",
    "indices"
   ]
  },
  {
   "cell_type": "code",
   "execution_count": 54,
   "metadata": {},
   "outputs": [
    {
     "data": {
      "text/plain": [
       "2            가야할매밀면\n",
       "86     부산약콩밀면 이기대본점\n",
       "60            만포밀면옥\n",
       "85             삼성밀면\n",
       "4            할매가야밀면\n",
       "87              면채움\n",
       "88             대연밀면\n",
       "228              큐제\n",
       "359            개금밀면\n",
       "125              북경\n",
       "Name: MAIN_TITLE, dtype: object"
      ]
     },
     "execution_count": 54,
     "metadata": {},
     "output_type": "execute_result"
    }
   ],
   "source": [
    "get_recommendations('국제밀면본점', cosine_sim2)"
   ]
  },
  {
   "cell_type": "markdown",
   "metadata": {},
   "source": []
  },
  {
   "cell_type": "code",
   "execution_count": 4,
   "metadata": {},
   "outputs": [
    {
     "data": {
      "text/html": [
       "<div>\n",
       "<style scoped>\n",
       "    .dataframe tbody tr th:only-of-type {\n",
       "        vertical-align: middle;\n",
       "    }\n",
       "\n",
       "    .dataframe tbody tr th {\n",
       "        vertical-align: top;\n",
       "    }\n",
       "\n",
       "    .dataframe thead th {\n",
       "        text-align: right;\n",
       "    }\n",
       "</style>\n",
       "<table border=\"1\" class=\"dataframe\">\n",
       "  <thead>\n",
       "    <tr style=\"text-align: right;\">\n",
       "      <th></th>\n",
       "      <th>MAIN_TITLE</th>\n",
       "      <th>RPRSNTV_MENU</th>\n",
       "      <th>ADDR1</th>\n",
       "      <th>MAIN_IMG_NORMAL</th>\n",
       "      <th>ITEMCNTNTS</th>\n",
       "      <th>CNTCT_TEL</th>\n",
       "    </tr>\n",
       "  </thead>\n",
       "  <tbody>\n",
       "    <tr>\n",
       "      <th>0</th>\n",
       "      <td>만드리곤드레밥</td>\n",
       "      <td>돌솥곤드레정식, 단호박오리훈제</td>\n",
       "      <td>강서구 공항앞길 85번길 13</td>\n",
       "      <td>https://www.visitbusan.net/uploadImgs/files/cn...</td>\n",
       "      <td>곤드레밥에는 일반적으로 건조 곤드레나물이 사용되는데,\\n이곳은 생 곤드레나물을 사용...</td>\n",
       "      <td>051-941-3669</td>\n",
       "    </tr>\n",
       "    <tr>\n",
       "      <th>1</th>\n",
       "      <td>민물가든</td>\n",
       "      <td>묵은지붕어조림, 붕어찜</td>\n",
       "      <td>강서구 둔치중앙길5(봉림동)</td>\n",
       "      <td>https://www.visitbusan.net/uploadImgs/files/cn...</td>\n",
       "      <td>30년간 운영해온 생선찜전문점으로, 전통방식인 나무통을 사용하여 조리하는 것이 특징...</td>\n",
       "      <td>051-971-8428</td>\n",
       "    </tr>\n",
       "    <tr>\n",
       "      <th>2</th>\n",
       "      <td>가야할매밀면</td>\n",
       "      <td>물 밀면, 비빔밀면\\n</td>\n",
       "      <td>부산 연제구 월드컵대로 145번길 32\\n</td>\n",
       "      <td>https://www.visitbusan.net/uploadImgs/files/cn...</td>\n",
       "      <td>유명한 밀면전문점으로, 밀가루에 옥수수 전분을 섞어, 다른 밀면전문점들보다 더 탄력...</td>\n",
       "      <td>051-865-8017</td>\n",
       "    </tr>\n",
       "    <tr>\n",
       "      <th>3</th>\n",
       "      <td>국제밀면본점</td>\n",
       "      <td>물밀면, 비빔밀면</td>\n",
       "      <td>연제구 중앙대로1235번길 23-6</td>\n",
       "      <td>https://www.visitbusan.net/uploadImgs/files/cn...</td>\n",
       "      <td>밀면전문점 중에서도 특히 맛으로 소문난 이곳은\\n소 사골만을 사용한 육수 등 독창적...</td>\n",
       "      <td>051-501-5507</td>\n",
       "    </tr>\n",
       "    <tr>\n",
       "      <th>4</th>\n",
       "      <td>할매가야밀면</td>\n",
       "      <td>밀면, 비빔밀면</td>\n",
       "      <td>중구 광복로 56-14</td>\n",
       "      <td>https://www.visitbusan.net/uploadImgs/files/cn...</td>\n",
       "      <td>깔끔한 맛의 육수가 인상적인 40년 전통의 밀면 전문점으로, \\n식사시간에는 항상 ...</td>\n",
       "      <td>051-246-3314</td>\n",
       "    </tr>\n",
       "  </tbody>\n",
       "</table>\n",
       "</div>"
      ],
      "text/plain": [
       "  MAIN_TITLE      RPRSNTV_MENU                    ADDR1  \\\n",
       "0    만드리곤드레밥  돌솥곤드레정식, 단호박오리훈제         강서구 공항앞길 85번길 13   \n",
       "1       민물가든      묵은지붕어조림, 붕어찜         강서구 둔치중앙길5(봉림동)    \n",
       "2     가야할매밀면      물 밀면, 비빔밀면\\n  부산 연제구 월드컵대로 145번길 32\\n   \n",
       "3     국제밀면본점         물밀면, 비빔밀면     연제구 중앙대로1235번길 23-6    \n",
       "4     할매가야밀면          밀면, 비빔밀면             중구 광복로 56-14   \n",
       "\n",
       "                                     MAIN_IMG_NORMAL  \\\n",
       "0  https://www.visitbusan.net/uploadImgs/files/cn...   \n",
       "1  https://www.visitbusan.net/uploadImgs/files/cn...   \n",
       "2  https://www.visitbusan.net/uploadImgs/files/cn...   \n",
       "3  https://www.visitbusan.net/uploadImgs/files/cn...   \n",
       "4  https://www.visitbusan.net/uploadImgs/files/cn...   \n",
       "\n",
       "                                          ITEMCNTNTS     CNTCT_TEL  \n",
       "0  곤드레밥에는 일반적으로 건조 곤드레나물이 사용되는데,\\n이곳은 생 곤드레나물을 사용...  051-941-3669  \n",
       "1  30년간 운영해온 생선찜전문점으로, 전통방식인 나무통을 사용하여 조리하는 것이 특징...  051-971-8428  \n",
       "2  유명한 밀면전문점으로, 밀가루에 옥수수 전분을 섞어, 다른 밀면전문점들보다 더 탄력...  051-865-8017  \n",
       "3  밀면전문점 중에서도 특히 맛으로 소문난 이곳은\\n소 사골만을 사용한 육수 등 독창적...  051-501-5507  \n",
       "4  깔끔한 맛의 육수가 인상적인 40년 전통의 밀면 전문점으로, \\n식사시간에는 항상 ...  051-246-3314  "
      ]
     },
     "execution_count": 4,
     "metadata": {},
     "output_type": "execute_result"
    }
   ],
   "source": [
    "import pickle\n",
    "stores = df2[['MAIN_TITLE', 'RPRSNTV_MENU', 'ADDR1','MAIN_IMG_NORMAL','ITEMCNTNTS','CNTCT_TEL']].copy()\n",
    "stores.head()"
   ]
  },
  {
   "cell_type": "code",
   "execution_count": 5,
   "metadata": {},
   "outputs": [],
   "source": [
    "pickle.dump(stores, open('stores.pickle', 'wb'))"
   ]
  },
  {
   "cell_type": "code",
   "execution_count": null,
   "metadata": {},
   "outputs": [],
   "source": []
  }
 ],
 "metadata": {
  "kernelspec": {
   "display_name": "env",
   "language": "python",
   "name": "python3"
  },
  "language_info": {
   "codemirror_mode": {
    "name": "ipython",
    "version": 3
   },
   "file_extension": ".py",
   "mimetype": "text/x-python",
   "name": "python",
   "nbconvert_exporter": "python",
   "pygments_lexer": "ipython3",
   "version": "3.13.0"
  }
 },
 "nbformat": 4,
 "nbformat_minor": 2
}
