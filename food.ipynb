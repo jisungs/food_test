{
 "cells": [
  {
   "cell_type": "markdown",
   "metadata": {},
   "source": [
    "# 부산맛집정보"
   ]
  },
  {
   "cell_type": "markdown",
   "metadata": {},
   "source": [
    "### 데이터 호출"
   ]
  },
  {
   "cell_type": "code",
   "execution_count": 25,
   "metadata": {},
   "outputs": [],
   "source": [
    "import pandas as pd\n",
    "import numpy as np\n",
    "\n",
    "df = pd.read_csv('food_data.csv')"
   ]
  },
  {
   "cell_type": "code",
   "execution_count": 26,
   "metadata": {},
   "outputs": [
    {
     "data": {
      "text/html": [
       "<div>\n",
       "<style scoped>\n",
       "    .dataframe tbody tr th:only-of-type {\n",
       "        vertical-align: middle;\n",
       "    }\n",
       "\n",
       "    .dataframe tbody tr th {\n",
       "        vertical-align: top;\n",
       "    }\n",
       "\n",
       "    .dataframe thead th {\n",
       "        text-align: right;\n",
       "    }\n",
       "</style>\n",
       "<table border=\"1\" class=\"dataframe\">\n",
       "  <thead>\n",
       "    <tr style=\"text-align: right;\">\n",
       "      <th></th>\n",
       "      <th>UC_SEQ</th>\n",
       "      <th>MAIN_TITLE</th>\n",
       "      <th>GUGUN_NM</th>\n",
       "      <th>LAT</th>\n",
       "      <th>LNG</th>\n",
       "      <th>PLACE</th>\n",
       "      <th>TITLE</th>\n",
       "      <th>SUBTITLE</th>\n",
       "      <th>ADDR1</th>\n",
       "      <th>ADDR2</th>\n",
       "      <th>CNTCT_TEL</th>\n",
       "      <th>HOMEPAGE_URL</th>\n",
       "      <th>USAGE_DAY_WEEK_AND_TIME</th>\n",
       "      <th>RPRSNTV_MENU</th>\n",
       "      <th>MAIN_IMG_NORMAL</th>\n",
       "      <th>MAIN_IMG_THUMB</th>\n",
       "      <th>ITEMCNTNTS</th>\n",
       "    </tr>\n",
       "  </thead>\n",
       "  <tbody>\n",
       "    <tr>\n",
       "      <th>0</th>\n",
       "      <td>70</td>\n",
       "      <td>만드리곤드레밥</td>\n",
       "      <td>강서구</td>\n",
       "      <td>35.177387</td>\n",
       "      <td>128.95245</td>\n",
       "      <td>만드리곤드레밥</td>\n",
       "      <td>만드리곤드레밥</td>\n",
       "      <td>NaN</td>\n",
       "      <td>강서구 공항앞길 85번길 13</td>\n",
       "      <td>NaN</td>\n",
       "      <td>051-941-3669</td>\n",
       "      <td>NaN</td>\n",
       "      <td>10:00-20:00\\n(19:50 라스트오더)</td>\n",
       "      <td>돌솥곤드레정식, 단호박오리훈제</td>\n",
       "      <td>https://www.visitbusan.net/uploadImgs/files/cn...</td>\n",
       "      <td>https://www.visitbusan.net/uploadImgs/files/cn...</td>\n",
       "      <td>곤드레밥에는 일반적으로 건조 곤드레나물이 사용되는데,\\n이곳은 생 곤드레나물을 사용...</td>\n",
       "    </tr>\n",
       "    <tr>\n",
       "      <th>1</th>\n",
       "      <td>77</td>\n",
       "      <td>민물가든</td>\n",
       "      <td>강서구</td>\n",
       "      <td>35.160550</td>\n",
       "      <td>128.89468</td>\n",
       "      <td>민물가든</td>\n",
       "      <td>민물가든</td>\n",
       "      <td>민물가든</td>\n",
       "      <td>강서구 둔치중앙길5(봉림동)</td>\n",
       "      <td>NaN</td>\n",
       "      <td>051-971-8428</td>\n",
       "      <td>https://blog.naver.com/rladba1</td>\n",
       "      <td>24.03.12 ~ 24. 12.31 휴업중\\n11:00a.m. ~ 21:00p.m...</td>\n",
       "      <td>묵은지붕어조림, 붕어찜</td>\n",
       "      <td>https://www.visitbusan.net/uploadImgs/files/cn...</td>\n",
       "      <td>https://www.visitbusan.net/uploadImgs/files/cn...</td>\n",
       "      <td>30년간 운영해온 생선찜전문점으로, 전통방식인 나무통을 사용하여 조리하는 것이 특징...</td>\n",
       "    </tr>\n",
       "    <tr>\n",
       "      <th>2</th>\n",
       "      <td>94</td>\n",
       "      <td>가야할매밀면</td>\n",
       "      <td>연제구</td>\n",
       "      <td>35.185196</td>\n",
       "      <td>129.07988</td>\n",
       "      <td>가야할매밀면</td>\n",
       "      <td>가야할매밀면</td>\n",
       "      <td>가야할매밀면</td>\n",
       "      <td>부산 연제구 월드컵대로 145번길 32\\n</td>\n",
       "      <td>NaN</td>\n",
       "      <td>051-865-8017</td>\n",
       "      <td>NaN</td>\n",
       "      <td>11:00-20:00</td>\n",
       "      <td>물 밀면, 비빔밀면\\n</td>\n",
       "      <td>https://www.visitbusan.net/uploadImgs/files/cn...</td>\n",
       "      <td>https://www.visitbusan.net/uploadImgs/files/cn...</td>\n",
       "      <td>유명한 밀면전문점으로, 밀가루에 옥수수 전분을 섞어, 다른 밀면전문점들보다 더 탄력...</td>\n",
       "    </tr>\n",
       "    <tr>\n",
       "      <th>3</th>\n",
       "      <td>95</td>\n",
       "      <td>국제밀면본점</td>\n",
       "      <td>연제구</td>\n",
       "      <td>35.196890</td>\n",
       "      <td>129.07785</td>\n",
       "      <td>국제밀면본점</td>\n",
       "      <td>국제밀면본점</td>\n",
       "      <td>NaN</td>\n",
       "      <td>연제구 중앙대로1235번길 23-6</td>\n",
       "      <td>NaN</td>\n",
       "      <td>051-501-5507</td>\n",
       "      <td>NaN</td>\n",
       "      <td>10:00-20:00\\n4~9월 10:00-21:00 (라스트오더 20:30 전후)\\n</td>\n",
       "      <td>물밀면, 비빔밀면</td>\n",
       "      <td>https://www.visitbusan.net/uploadImgs/files/cn...</td>\n",
       "      <td>https://www.visitbusan.net/uploadImgs/files/cn...</td>\n",
       "      <td>밀면전문점 중에서도 특히 맛으로 소문난 이곳은\\n소 사골만을 사용한 육수 등 독창적...</td>\n",
       "    </tr>\n",
       "    <tr>\n",
       "      <th>4</th>\n",
       "      <td>102</td>\n",
       "      <td>할매가야밀면</td>\n",
       "      <td>중구</td>\n",
       "      <td>35.098934</td>\n",
       "      <td>129.03122</td>\n",
       "      <td>할매가야밀면</td>\n",
       "      <td>할매가야밀면</td>\n",
       "      <td>NaN</td>\n",
       "      <td>중구 광복로 56-14</td>\n",
       "      <td>NaN</td>\n",
       "      <td>051-246-3314</td>\n",
       "      <td>NaN</td>\n",
       "      <td>10:30-21:30</td>\n",
       "      <td>밀면, 비빔밀면</td>\n",
       "      <td>https://www.visitbusan.net/uploadImgs/files/cn...</td>\n",
       "      <td>https://www.visitbusan.net/uploadImgs/files/cn...</td>\n",
       "      <td>깔끔한 맛의 육수가 인상적인 40년 전통의 밀면 전문점으로, \\n식사시간에는 항상 ...</td>\n",
       "    </tr>\n",
       "  </tbody>\n",
       "</table>\n",
       "</div>"
      ],
      "text/plain": [
       "   UC_SEQ MAIN_TITLE GUGUN_NM        LAT        LNG    PLACE    TITLE  \\\n",
       "0      70    만드리곤드레밥      강서구  35.177387  128.95245  만드리곤드레밥  만드리곤드레밥   \n",
       "1      77       민물가든      강서구  35.160550  128.89468     민물가든     민물가든   \n",
       "2      94     가야할매밀면      연제구  35.185196  129.07988   가야할매밀면   가야할매밀면   \n",
       "3      95     국제밀면본점      연제구  35.196890  129.07785   국제밀면본점   국제밀면본점   \n",
       "4     102     할매가야밀면       중구  35.098934  129.03122   할매가야밀면   할매가야밀면   \n",
       "\n",
       "  SUBTITLE                    ADDR1 ADDR2     CNTCT_TEL  \\\n",
       "0      NaN         강서구 공항앞길 85번길 13   NaN  051-941-3669   \n",
       "1     민물가든         강서구 둔치중앙길5(봉림동)    NaN  051-971-8428   \n",
       "2   가야할매밀면  부산 연제구 월드컵대로 145번길 32\\n   NaN  051-865-8017   \n",
       "3      NaN     연제구 중앙대로1235번길 23-6    NaN  051-501-5507   \n",
       "4      NaN             중구 광복로 56-14   NaN  051-246-3314   \n",
       "\n",
       "                     HOMEPAGE_URL  \\\n",
       "0                             NaN   \n",
       "1  https://blog.naver.com/rladba1   \n",
       "2                             NaN   \n",
       "3                             NaN   \n",
       "4                             NaN   \n",
       "\n",
       "                             USAGE_DAY_WEEK_AND_TIME      RPRSNTV_MENU  \\\n",
       "0                         10:00-20:00\\n(19:50 라스트오더)  돌솥곤드레정식, 단호박오리훈제   \n",
       "1  24.03.12 ~ 24. 12.31 휴업중\\n11:00a.m. ~ 21:00p.m...      묵은지붕어조림, 붕어찜   \n",
       "2                                       11:00-20:00       물 밀면, 비빔밀면\\n   \n",
       "3   10:00-20:00\\n4~9월 10:00-21:00 (라스트오더 20:30 전후)\\n         물밀면, 비빔밀면   \n",
       "4                                        10:30-21:30          밀면, 비빔밀면   \n",
       "\n",
       "                                     MAIN_IMG_NORMAL  \\\n",
       "0  https://www.visitbusan.net/uploadImgs/files/cn...   \n",
       "1  https://www.visitbusan.net/uploadImgs/files/cn...   \n",
       "2  https://www.visitbusan.net/uploadImgs/files/cn...   \n",
       "3  https://www.visitbusan.net/uploadImgs/files/cn...   \n",
       "4  https://www.visitbusan.net/uploadImgs/files/cn...   \n",
       "\n",
       "                                      MAIN_IMG_THUMB  \\\n",
       "0  https://www.visitbusan.net/uploadImgs/files/cn...   \n",
       "1  https://www.visitbusan.net/uploadImgs/files/cn...   \n",
       "2  https://www.visitbusan.net/uploadImgs/files/cn...   \n",
       "3  https://www.visitbusan.net/uploadImgs/files/cn...   \n",
       "4  https://www.visitbusan.net/uploadImgs/files/cn...   \n",
       "\n",
       "                                          ITEMCNTNTS  \n",
       "0  곤드레밥에는 일반적으로 건조 곤드레나물이 사용되는데,\\n이곳은 생 곤드레나물을 사용...  \n",
       "1  30년간 운영해온 생선찜전문점으로, 전통방식인 나무통을 사용하여 조리하는 것이 특징...  \n",
       "2  유명한 밀면전문점으로, 밀가루에 옥수수 전분을 섞어, 다른 밀면전문점들보다 더 탄력...  \n",
       "3  밀면전문점 중에서도 특히 맛으로 소문난 이곳은\\n소 사골만을 사용한 육수 등 독창적...  \n",
       "4  깔끔한 맛의 육수가 인상적인 40년 전통의 밀면 전문점으로, \\n식사시간에는 항상 ...  "
      ]
     },
     "execution_count": 26,
     "metadata": {},
     "output_type": "execute_result"
    }
   ],
   "source": [
    "df.head(5)"
   ]
  },
  {
   "cell_type": "code",
   "execution_count": 27,
   "metadata": {},
   "outputs": [
    {
     "data": {
      "text/plain": [
       "0    돌솥곤드레정식, 단호박오리훈제\n",
       "1        묵은지붕어조림, 붕어찜\n",
       "2        물 밀면, 비빔밀면\\n\n",
       "3           물밀면, 비빔밀면\n",
       "4            밀면, 비빔밀면\n",
       "Name: RPRSNTV_MENU, dtype: object"
      ]
     },
     "execution_count": 27,
     "metadata": {},
     "output_type": "execute_result"
    }
   ],
   "source": [
    "df['RPRSNTV_MENU'].head(5)"
   ]
  },
  {
   "cell_type": "markdown",
   "metadata": {},
   "source": [
    "#### a the 같은 요소들 제거해서 문장으로 만들어 주는 코드 (이게 메뉴 분석 하는데 필요 한가?)"
   ]
  },
  {
   "cell_type": "code",
   "execution_count": 28,
   "metadata": {},
   "outputs": [],
   "source": [
    "from sklearn.feature_extraction.text import TfidfVectorizer\n",
    "tfidf = TfidfVectorizer(stop_words='english')\n"
   ]
  },
  {
   "cell_type": "markdown",
   "metadata": {},
   "source": [
    "#### 메뉴 컬럼에서 빈값이 있는지 확인함"
   ]
  },
  {
   "cell_type": "code",
   "execution_count": 29,
   "metadata": {},
   "outputs": [
    {
     "data": {
      "text/plain": [
       "np.True_"
      ]
     },
     "execution_count": 29,
     "metadata": {},
     "output_type": "execute_result"
    }
   ],
   "source": [
    "df['RPRSNTV_MENU'].isnull().values.any()"
   ]
  },
  {
   "cell_type": "markdown",
   "metadata": {},
   "source": [
    "#### null 값이 있으면 빈 문자열로 전환"
   ]
  },
  {
   "cell_type": "code",
   "execution_count": 30,
   "metadata": {},
   "outputs": [],
   "source": [
    "df['RPRSNTV_MENU'] = df['RPRSNTV_MENU'].fillna('')"
   ]
  },
  {
   "cell_type": "code",
   "execution_count": 31,
   "metadata": {},
   "outputs": [
    {
     "data": {
      "text/plain": [
       "(394, 928)"
      ]
     },
     "execution_count": 31,
     "metadata": {},
     "output_type": "execute_result"
    }
   ],
   "source": [
    "tfidf_matrix = tfidf.fit_transform(df['RPRSNTV_MENU'])\n",
    "tfidf_matrix.shape"
   ]
  },
  {
   "cell_type": "markdown",
   "metadata": {},
   "source": [
    "#### 코사인 유사도를 구하기 위해 필요한 모듈"
   ]
  },
  {
   "cell_type": "code",
   "execution_count": 32,
   "metadata": {},
   "outputs": [
    {
     "data": {
      "text/plain": [
       "array([[1.        , 0.        , 0.        , ..., 0.        , 0.        ,\n",
       "        0.        ],\n",
       "       [0.        , 1.        , 0.        , ..., 0.        , 0.        ,\n",
       "        0.        ],\n",
       "       [0.        , 0.        , 1.        , ..., 0.        , 0.        ,\n",
       "        0.        ],\n",
       "       ...,\n",
       "       [0.        , 0.        , 0.        , ..., 1.        , 0.16532455,\n",
       "        0.32167676],\n",
       "       [0.        , 0.        , 0.        , ..., 0.16532455, 1.        ,\n",
       "        0.11463543],\n",
       "       [0.        , 0.        , 0.        , ..., 0.32167676, 0.11463543,\n",
       "        1.        ]], shape=(394, 394))"
      ]
     },
     "execution_count": 32,
     "metadata": {},
     "output_type": "execute_result"
    }
   ],
   "source": [
    "from sklearn.metrics.pairwise import linear_kernel\n",
    "\n",
    "cosine_sim = linear_kernel(tfidf_matrix, tfidf_matrix)\n",
    "cosine_sim"
   ]
  },
  {
   "cell_type": "code",
   "execution_count": 33,
   "metadata": {},
   "outputs": [
    {
     "data": {
      "text/plain": [
       "(394, 394)"
      ]
     },
     "execution_count": 33,
     "metadata": {},
     "output_type": "execute_result"
    }
   ],
   "source": [
    "cosine_sim.shape"
   ]
  },
  {
   "cell_type": "markdown",
   "metadata": {},
   "source": [
    "####  가게 이름을 입력하면 인덱스를 반환해주는 함수"
   ]
  },
  {
   "cell_type": "code",
   "execution_count": 34,
   "metadata": {},
   "outputs": [
    {
     "data": {
      "text/plain": [
       "MAIN_TITLE\n",
       "만드리곤드레밥      0\n",
       "민물가든         1\n",
       "가야할매밀면       2\n",
       "국제밀면본점       3\n",
       "할매가야밀면       4\n",
       "          ... \n",
       "옵스         389\n",
       "모모스커피      390\n",
       "베르크로스터스    391\n",
       "블랙업커피      392\n",
       "히떼로스터리     393\n",
       "Length: 394, dtype: int64"
      ]
     },
     "execution_count": 34,
     "metadata": {},
     "output_type": "execute_result"
    }
   ],
   "source": [
    "indices = pd.Series(df.index, index=df['MAIN_TITLE']).drop_duplicates()\n",
    "indices"
   ]
  },
  {
   "cell_type": "code",
   "execution_count": 35,
   "metadata": {},
   "outputs": [
    {
     "data": {
      "text/plain": [
       "np.int64(3)"
      ]
     },
     "execution_count": 35,
     "metadata": {},
     "output_type": "execute_result"
    }
   ],
   "source": [
    "indices['국제밀면본점']"
   ]
  },
  {
   "cell_type": "code",
   "execution_count": 36,
   "metadata": {},
   "outputs": [
    {
     "data": {
      "text/html": [
       "<div>\n",
       "<style scoped>\n",
       "    .dataframe tbody tr th:only-of-type {\n",
       "        vertical-align: middle;\n",
       "    }\n",
       "\n",
       "    .dataframe tbody tr th {\n",
       "        vertical-align: top;\n",
       "    }\n",
       "\n",
       "    .dataframe thead th {\n",
       "        text-align: right;\n",
       "    }\n",
       "</style>\n",
       "<table border=\"1\" class=\"dataframe\">\n",
       "  <thead>\n",
       "    <tr style=\"text-align: right;\">\n",
       "      <th></th>\n",
       "      <th>UC_SEQ</th>\n",
       "      <th>MAIN_TITLE</th>\n",
       "      <th>GUGUN_NM</th>\n",
       "      <th>LAT</th>\n",
       "      <th>LNG</th>\n",
       "      <th>PLACE</th>\n",
       "      <th>TITLE</th>\n",
       "      <th>SUBTITLE</th>\n",
       "      <th>ADDR1</th>\n",
       "      <th>ADDR2</th>\n",
       "      <th>CNTCT_TEL</th>\n",
       "      <th>HOMEPAGE_URL</th>\n",
       "      <th>USAGE_DAY_WEEK_AND_TIME</th>\n",
       "      <th>RPRSNTV_MENU</th>\n",
       "      <th>MAIN_IMG_NORMAL</th>\n",
       "      <th>MAIN_IMG_THUMB</th>\n",
       "      <th>ITEMCNTNTS</th>\n",
       "    </tr>\n",
       "  </thead>\n",
       "  <tbody>\n",
       "    <tr>\n",
       "      <th>3</th>\n",
       "      <td>95</td>\n",
       "      <td>국제밀면본점</td>\n",
       "      <td>연제구</td>\n",
       "      <td>35.19689</td>\n",
       "      <td>129.07785</td>\n",
       "      <td>국제밀면본점</td>\n",
       "      <td>국제밀면본점</td>\n",
       "      <td>NaN</td>\n",
       "      <td>연제구 중앙대로1235번길 23-6</td>\n",
       "      <td>NaN</td>\n",
       "      <td>051-501-5507</td>\n",
       "      <td>NaN</td>\n",
       "      <td>10:00-20:00\\n4~9월 10:00-21:00 (라스트오더 20:30 전후)\\n</td>\n",
       "      <td>물밀면, 비빔밀면</td>\n",
       "      <td>https://www.visitbusan.net/uploadImgs/files/cn...</td>\n",
       "      <td>https://www.visitbusan.net/uploadImgs/files/cn...</td>\n",
       "      <td>밀면전문점 중에서도 특히 맛으로 소문난 이곳은\\n소 사골만을 사용한 육수 등 독창적...</td>\n",
       "    </tr>\n",
       "  </tbody>\n",
       "</table>\n",
       "</div>"
      ],
      "text/plain": [
       "   UC_SEQ MAIN_TITLE GUGUN_NM       LAT        LNG   PLACE   TITLE SUBTITLE  \\\n",
       "3      95     국제밀면본점      연제구  35.19689  129.07785  국제밀면본점  국제밀면본점      NaN   \n",
       "\n",
       "                  ADDR1 ADDR2     CNTCT_TEL HOMEPAGE_URL  \\\n",
       "3  연제구 중앙대로1235번길 23-6    NaN  051-501-5507          NaN   \n",
       "\n",
       "                            USAGE_DAY_WEEK_AND_TIME RPRSNTV_MENU  \\\n",
       "3  10:00-20:00\\n4~9월 10:00-21:00 (라스트오더 20:30 전후)\\n    물밀면, 비빔밀면   \n",
       "\n",
       "                                     MAIN_IMG_NORMAL  \\\n",
       "3  https://www.visitbusan.net/uploadImgs/files/cn...   \n",
       "\n",
       "                                      MAIN_IMG_THUMB  \\\n",
       "3  https://www.visitbusan.net/uploadImgs/files/cn...   \n",
       "\n",
       "                                          ITEMCNTNTS  \n",
       "3  밀면전문점 중에서도 특히 맛으로 소문난 이곳은\\n소 사골만을 사용한 육수 등 독창적...  "
      ]
     },
     "execution_count": 36,
     "metadata": {},
     "output_type": "execute_result"
    }
   ],
   "source": [
    "df.iloc[[3]]"
   ]
  },
  {
   "cell_type": "markdown",
   "metadata": {},
   "source": [
    "#### 가게의 이름을 입력하면 가장 비슷한 상위 열개의 가게를 추천해주는 함수"
   ]
  },
  {
   "cell_type": "code",
   "execution_count": 37,
   "metadata": {},
   "outputs": [],
   "source": [
    "def get_recommendations(title, cosine_sim=cosine_sim):\n",
    "    #가게 이름을 통해서 전체 데이터에서 인덱스 값가져오기\n",
    "    idx = indices[title]\n",
    "    #코사인 유사도 에서 인덱스 에 해당하는 데이터를 딕셔너리 형태로 가져오기\n",
    "    sim_scores = list(enumerate(cosine_sim[idx]))\n",
    "    #코사인 유사도 기준으로 내림차순 정렬\n",
    "    sim_scores = sorted(sim_scores, key=lambda x: x[1], reverse=True)\n",
    "    #자기 자신을 제외한 10개 가게 잘라내기\n",
    "    sim_scores = sim_scores[1:11]\n",
    "    #추천 가게 목록 10개 인덱스 정보 추출\n",
    "    store_indices = [i[0] for i in sim_scores]\n",
    "    #인덱스 정보를 바탕으로 가게 제목 추출\n",
    "    return df['MAIN_TITLE'].iloc[store_indices]\n",
    "\n"
   ]
  },
  {
   "cell_type": "code",
   "execution_count": 38,
   "metadata": {},
   "outputs": [
    {
     "data": {
      "text/plain": [
       "np.int64(3)"
      ]
     },
     "execution_count": 38,
     "metadata": {},
     "output_type": "execute_result"
    }
   ],
   "source": [
    "test_idx = indices['국제밀면본점'] # 가게 이름을 기준으로 인덱스 값 가져오\n",
    "test_idx"
   ]
  },
  {
   "cell_type": "code",
   "execution_count": 39,
   "metadata": {},
   "outputs": [
    {
     "data": {
      "text/plain": [
       "array([0.        , 0.        , 0.46283429, 1.        , 0.46283429,\n",
       "       0.        , 0.        , 0.        , 0.        , 0.        ,\n",
       "       0.        , 0.        , 0.        , 0.        , 0.        ,\n",
       "       0.        , 0.        , 0.        , 0.        , 0.        ,\n",
       "       0.        , 0.        , 0.        , 0.        , 0.        ,\n",
       "       0.        , 0.        , 0.        , 0.        , 0.        ,\n",
       "       0.        , 0.        , 0.        , 0.        , 0.        ,\n",
       "       0.        , 0.        , 0.        , 0.        , 0.        ,\n",
       "       0.        , 0.        , 0.        , 0.        , 0.        ,\n",
       "       0.        , 0.        , 0.        , 0.        , 0.        ,\n",
       "       0.        , 0.26209348, 0.        , 0.        , 0.        ,\n",
       "       0.        , 0.        , 0.        , 0.        , 0.        ,\n",
       "       0.79256059, 0.        , 0.        , 0.        , 0.        ,\n",
       "       0.        , 0.        , 0.        , 0.        , 0.        ,\n",
       "       0.        , 0.        , 0.        , 0.        , 0.        ,\n",
       "       0.        , 0.        , 0.        , 0.        , 0.        ,\n",
       "       0.        , 0.        , 0.        , 0.        , 0.        ,\n",
       "       0.        , 0.47979317, 0.        , 0.41437377, 0.        ,\n",
       "       0.        , 0.        , 0.        , 0.        , 0.        ,\n",
       "       0.        , 0.        , 0.        , 0.        , 0.        ,\n",
       "       0.        , 0.        , 0.        , 0.        , 0.        ,\n",
       "       0.        , 0.        , 0.        , 0.        , 0.        ,\n",
       "       0.        , 0.        , 0.        , 0.        , 0.        ,\n",
       "       0.        , 0.        , 0.        , 0.        , 0.        ,\n",
       "       0.        , 0.        , 0.        , 0.        , 0.        ,\n",
       "       0.        , 0.        , 0.        , 0.        , 0.        ,\n",
       "       0.        , 0.        , 0.        , 0.        , 0.        ,\n",
       "       0.        , 0.        , 0.        , 0.        , 0.        ,\n",
       "       0.        , 0.        , 0.        , 0.        , 0.        ,\n",
       "       0.        , 0.        , 0.        , 0.        , 0.        ,\n",
       "       0.        , 0.        , 0.        , 0.        , 0.        ,\n",
       "       0.        , 0.        , 0.        , 0.        , 0.        ,\n",
       "       0.        , 0.        , 0.        , 0.        , 0.        ,\n",
       "       0.        , 0.        , 0.        , 0.        , 0.        ,\n",
       "       0.        , 0.        , 0.        , 0.        , 0.        ,\n",
       "       0.        , 0.        , 0.        , 0.        , 0.        ,\n",
       "       0.        , 0.        , 0.        , 0.        , 0.        ,\n",
       "       0.        , 0.        , 0.        , 0.        , 0.        ,\n",
       "       0.        , 0.        , 0.        , 0.        , 0.        ,\n",
       "       0.        , 0.        , 0.        , 0.        , 0.        ,\n",
       "       0.        , 0.        , 0.        , 0.        , 0.        ,\n",
       "       0.        , 0.        , 0.        , 0.        , 0.        ,\n",
       "       0.        , 0.        , 0.        , 0.        , 0.        ,\n",
       "       0.        , 0.        , 0.        , 0.        , 0.        ,\n",
       "       0.        , 0.        , 0.        , 0.        , 0.        ,\n",
       "       0.        , 0.        , 0.        , 0.        , 0.        ,\n",
       "       0.        , 0.        , 0.        , 0.        , 0.        ,\n",
       "       0.        , 0.        , 0.        , 0.        , 0.        ,\n",
       "       0.        , 0.        , 0.        , 0.        , 0.        ,\n",
       "       0.        , 0.        , 0.        , 0.        , 0.        ,\n",
       "       0.        , 0.        , 0.        , 0.        , 0.        ,\n",
       "       0.        , 0.        , 0.        , 0.        , 0.        ,\n",
       "       0.        , 0.        , 0.        , 0.        , 0.        ,\n",
       "       0.        , 0.        , 0.        , 0.        , 0.        ,\n",
       "       0.        , 0.        , 0.        , 0.        , 0.        ,\n",
       "       0.        , 0.        , 0.        , 0.        , 0.        ,\n",
       "       0.        , 0.        , 0.        , 0.        , 0.        ,\n",
       "       0.        , 0.        , 0.        , 0.        , 0.        ,\n",
       "       0.        , 0.        , 0.        , 0.        , 0.        ,\n",
       "       0.        , 0.        , 0.        , 0.        , 0.        ,\n",
       "       0.        , 0.        , 0.        , 0.        , 0.        ,\n",
       "       0.        , 0.        , 0.        , 0.        , 0.        ,\n",
       "       0.        , 0.        , 0.        , 0.        , 0.        ,\n",
       "       0.        , 0.        , 0.        , 0.        , 0.        ,\n",
       "       0.        , 0.        , 0.        , 0.        , 0.        ,\n",
       "       0.        , 0.        , 0.        , 0.        , 0.        ,\n",
       "       0.        , 0.        , 0.        , 0.        , 0.        ,\n",
       "       0.        , 0.        , 0.        , 0.        , 0.        ,\n",
       "       0.        , 0.        , 0.        , 0.        , 0.        ,\n",
       "       0.        , 0.        , 0.        , 0.        , 0.        ,\n",
       "       0.        , 0.        , 0.        , 0.        , 0.        ,\n",
       "       0.        , 0.        , 0.        , 0.        , 0.55526378,\n",
       "       0.        , 0.        , 0.        , 0.        , 0.        ,\n",
       "       0.        , 0.        , 0.        , 0.        , 0.        ,\n",
       "       0.        , 0.        , 0.        , 0.        , 0.        ,\n",
       "       0.        , 0.        , 0.        , 0.        , 0.        ,\n",
       "       0.        , 0.        , 0.        , 0.        , 0.        ,\n",
       "       0.        , 0.        , 0.        , 0.        , 0.        ,\n",
       "       0.        , 0.        , 0.        , 0.        ])"
      ]
     },
     "execution_count": 39,
     "metadata": {},
     "output_type": "execute_result"
    }
   ],
   "source": [
    "cosine_sim[3]"
   ]
  },
  {
   "cell_type": "code",
   "execution_count": 40,
   "metadata": {},
   "outputs": [],
   "source": [
    "test_sim_scores = list(enumerate(cosine_sim[3])) # 국제밀면본점의 코사인 유사도 가져오기"
   ]
  },
  {
   "cell_type": "code",
   "execution_count": 41,
   "metadata": {},
   "outputs": [
    {
     "data": {
      "text/plain": [
       "[(60, np.float64(0.7925605909641772)),\n",
       " (359, np.float64(0.5552637804528624)),\n",
       " (86, np.float64(0.4797931679070155)),\n",
       " (2, np.float64(0.46283428834424906)),\n",
       " (4, np.float64(0.46283428834424906)),\n",
       " (88, np.float64(0.4143737723983014)),\n",
       " (51, np.float64(0.26209348241847324)),\n",
       " (0, np.float64(0.0)),\n",
       " (1, np.float64(0.0)),\n",
       " (5, np.float64(0.0))]"
      ]
     },
     "execution_count": 41,
     "metadata": {},
     "output_type": "execute_result"
    }
   ],
   "source": [
    "test_sim_scores = sorted(test_sim_scores, key=lambda x: x[1], reverse=True) # 코사인 유사도 기준으로 내림차순 정렬\n",
    "test_sim_scores[1:11] # 자기 자신을 제외한 10개의 추천 가게를 슬라이싱"
   ]
  },
  {
   "cell_type": "code",
   "execution_count": 42,
   "metadata": {},
   "outputs": [
    {
     "data": {
      "text/plain": [
       "[60, 359, 86, 2, 4, 88, 51, 0, 1, 5]"
      ]
     },
     "execution_count": 42,
     "metadata": {},
     "output_type": "execute_result"
    }
   ],
   "source": [
    "# 추천 가게 목록 10개의 인덱스 정보 추출\n",
    "test_store_indices = [i[0] for i in test_sim_scores[1:11]]\n",
    "test_store_indices"
   ]
  },
  {
   "cell_type": "code",
   "execution_count": 43,
   "metadata": {},
   "outputs": [
    {
     "data": {
      "text/plain": [
       "60            만포밀면옥\n",
       "359            개금밀면\n",
       "86     부산약콩밀면 이기대본점\n",
       "2            가야할매밀면\n",
       "4            할매가야밀면\n",
       "88             대연밀면\n",
       "51             당감밀면\n",
       "0           만드리곤드레밥\n",
       "1              민물가든\n",
       "5              거인통닭\n",
       "Name: MAIN_TITLE, dtype: object"
      ]
     },
     "execution_count": 43,
     "metadata": {},
     "output_type": "execute_result"
    }
   ],
   "source": [
    "df['MAIN_TITLE'].iloc[test_store_indices]"
   ]
  },
  {
   "cell_type": "code",
   "execution_count": 44,
   "metadata": {},
   "outputs": [
    {
     "data": {
      "text/plain": [
       "0         만드리곤드레밥\n",
       "1            민물가든\n",
       "2          가야할매밀면\n",
       "3          국제밀면본점\n",
       "4          할매가야밀면\n",
       "5            거인통닭\n",
       "6     부산꼼장어맛집 성일집\n",
       "7       배비장보쌈구서본점\n",
       "8        장수장 꼬리곰탕\n",
       "9      금수복국 해운대본점\n",
       "10         다온 한정식\n",
       "11         할매재첩국집\n",
       "12            예이제\n",
       "13       합천일류돼지국밥\n",
       "14        원조석대추어탕\n",
       "15           할매복국\n",
       "16        신창국밥 본점\n",
       "17          평안도족발\n",
       "18        한우숯불양곱창\n",
       "19     쌍둥이돼지국밥 본점\n",
       "Name: MAIN_TITLE, dtype: object"
      ]
     },
     "execution_count": 44,
     "metadata": {},
     "output_type": "execute_result"
    }
   ],
   "source": [
    "df['MAIN_TITLE'][:20]"
   ]
  },
  {
   "cell_type": "code",
   "execution_count": 45,
   "metadata": {},
   "outputs": [
    {
     "data": {
      "text/plain": [
       "0         만드리곤드레밥\n",
       "1            민물가든\n",
       "2          가야할매밀면\n",
       "3          국제밀면본점\n",
       "4          할매가야밀면\n",
       "6     부산꼼장어맛집 성일집\n",
       "7       배비장보쌈구서본점\n",
       "8        장수장 꼬리곰탕\n",
       "9      금수복국 해운대본점\n",
       "10         다온 한정식\n",
       "Name: MAIN_TITLE, dtype: object"
      ]
     },
     "execution_count": 45,
     "metadata": {},
     "output_type": "execute_result"
    }
   ],
   "source": [
    "get_recommendations('거인통닭')"
   ]
  },
  {
   "cell_type": "code",
   "execution_count": 46,
   "metadata": {},
   "outputs": [
    {
     "data": {
      "text/plain": [
       "65           부산족발\n",
       "0         만드리곤드레밥\n",
       "1            민물가든\n",
       "2          가야할매밀면\n",
       "3          국제밀면본점\n",
       "4          할매가야밀면\n",
       "5            거인통닭\n",
       "6     부산꼼장어맛집 성일집\n",
       "7       배비장보쌈구서본점\n",
       "8        장수장 꼬리곰탕\n",
       "Name: MAIN_TITLE, dtype: object"
      ]
     },
     "execution_count": 46,
     "metadata": {},
     "output_type": "execute_result"
    }
   ],
   "source": [
    "get_recommendations('평안도족발')"
   ]
  },
  {
   "cell_type": "markdown",
   "metadata": {},
   "source": [
    "### 다양한 요소 기반 추천(가게이름, 주소, 메뉴 등)"
   ]
  },
  {
   "cell_type": "code",
   "execution_count": 47,
   "metadata": {},
   "outputs": [
    {
     "data": {
      "text/html": [
       "<div>\n",
       "<style scoped>\n",
       "    .dataframe tbody tr th:only-of-type {\n",
       "        vertical-align: middle;\n",
       "    }\n",
       "\n",
       "    .dataframe tbody tr th {\n",
       "        vertical-align: top;\n",
       "    }\n",
       "\n",
       "    .dataframe thead th {\n",
       "        text-align: right;\n",
       "    }\n",
       "</style>\n",
       "<table border=\"1\" class=\"dataframe\">\n",
       "  <thead>\n",
       "    <tr style=\"text-align: right;\">\n",
       "      <th></th>\n",
       "      <th>UC_SEQ</th>\n",
       "      <th>MAIN_TITLE</th>\n",
       "      <th>GUGUN_NM</th>\n",
       "      <th>LAT</th>\n",
       "      <th>LNG</th>\n",
       "      <th>PLACE</th>\n",
       "      <th>TITLE</th>\n",
       "      <th>SUBTITLE</th>\n",
       "      <th>ADDR1</th>\n",
       "      <th>ADDR2</th>\n",
       "      <th>CNTCT_TEL</th>\n",
       "      <th>HOMEPAGE_URL</th>\n",
       "      <th>USAGE_DAY_WEEK_AND_TIME</th>\n",
       "      <th>RPRSNTV_MENU</th>\n",
       "      <th>MAIN_IMG_NORMAL</th>\n",
       "      <th>MAIN_IMG_THUMB</th>\n",
       "      <th>ITEMCNTNTS</th>\n",
       "    </tr>\n",
       "  </thead>\n",
       "  <tbody>\n",
       "    <tr>\n",
       "      <th>0</th>\n",
       "      <td>70</td>\n",
       "      <td>만드리곤드레밥</td>\n",
       "      <td>강서구</td>\n",
       "      <td>35.177387</td>\n",
       "      <td>128.95245</td>\n",
       "      <td>만드리곤드레밥</td>\n",
       "      <td>만드리곤드레밥</td>\n",
       "      <td>NaN</td>\n",
       "      <td>강서구 공항앞길 85번길 13</td>\n",
       "      <td>NaN</td>\n",
       "      <td>051-941-3669</td>\n",
       "      <td>NaN</td>\n",
       "      <td>10:00-20:00\\n(19:50 라스트오더)</td>\n",
       "      <td>돌솥곤드레정식, 단호박오리훈제</td>\n",
       "      <td>https://www.visitbusan.net/uploadImgs/files/cn...</td>\n",
       "      <td>https://www.visitbusan.net/uploadImgs/files/cn...</td>\n",
       "      <td>곤드레밥에는 일반적으로 건조 곤드레나물이 사용되는데,\\n이곳은 생 곤드레나물을 사용...</td>\n",
       "    </tr>\n",
       "    <tr>\n",
       "      <th>1</th>\n",
       "      <td>77</td>\n",
       "      <td>민물가든</td>\n",
       "      <td>강서구</td>\n",
       "      <td>35.160550</td>\n",
       "      <td>128.89468</td>\n",
       "      <td>민물가든</td>\n",
       "      <td>민물가든</td>\n",
       "      <td>민물가든</td>\n",
       "      <td>강서구 둔치중앙길5(봉림동)</td>\n",
       "      <td>NaN</td>\n",
       "      <td>051-971-8428</td>\n",
       "      <td>https://blog.naver.com/rladba1</td>\n",
       "      <td>24.03.12 ~ 24. 12.31 휴업중\\n11:00a.m. ~ 21:00p.m...</td>\n",
       "      <td>묵은지붕어조림, 붕어찜</td>\n",
       "      <td>https://www.visitbusan.net/uploadImgs/files/cn...</td>\n",
       "      <td>https://www.visitbusan.net/uploadImgs/files/cn...</td>\n",
       "      <td>30년간 운영해온 생선찜전문점으로, 전통방식인 나무통을 사용하여 조리하는 것이 특징...</td>\n",
       "    </tr>\n",
       "    <tr>\n",
       "      <th>2</th>\n",
       "      <td>94</td>\n",
       "      <td>가야할매밀면</td>\n",
       "      <td>연제구</td>\n",
       "      <td>35.185196</td>\n",
       "      <td>129.07988</td>\n",
       "      <td>가야할매밀면</td>\n",
       "      <td>가야할매밀면</td>\n",
       "      <td>가야할매밀면</td>\n",
       "      <td>부산 연제구 월드컵대로 145번길 32\\n</td>\n",
       "      <td>NaN</td>\n",
       "      <td>051-865-8017</td>\n",
       "      <td>NaN</td>\n",
       "      <td>11:00-20:00</td>\n",
       "      <td>물 밀면, 비빔밀면\\n</td>\n",
       "      <td>https://www.visitbusan.net/uploadImgs/files/cn...</td>\n",
       "      <td>https://www.visitbusan.net/uploadImgs/files/cn...</td>\n",
       "      <td>유명한 밀면전문점으로, 밀가루에 옥수수 전분을 섞어, 다른 밀면전문점들보다 더 탄력...</td>\n",
       "    </tr>\n",
       "  </tbody>\n",
       "</table>\n",
       "</div>"
      ],
      "text/plain": [
       "   UC_SEQ MAIN_TITLE GUGUN_NM        LAT        LNG    PLACE    TITLE  \\\n",
       "0      70    만드리곤드레밥      강서구  35.177387  128.95245  만드리곤드레밥  만드리곤드레밥   \n",
       "1      77       민물가든      강서구  35.160550  128.89468     민물가든     민물가든   \n",
       "2      94     가야할매밀면      연제구  35.185196  129.07988   가야할매밀면   가야할매밀면   \n",
       "\n",
       "  SUBTITLE                    ADDR1 ADDR2     CNTCT_TEL  \\\n",
       "0      NaN         강서구 공항앞길 85번길 13   NaN  051-941-3669   \n",
       "1     민물가든         강서구 둔치중앙길5(봉림동)    NaN  051-971-8428   \n",
       "2   가야할매밀면  부산 연제구 월드컵대로 145번길 32\\n   NaN  051-865-8017   \n",
       "\n",
       "                     HOMEPAGE_URL  \\\n",
       "0                             NaN   \n",
       "1  https://blog.naver.com/rladba1   \n",
       "2                             NaN   \n",
       "\n",
       "                             USAGE_DAY_WEEK_AND_TIME      RPRSNTV_MENU  \\\n",
       "0                         10:00-20:00\\n(19:50 라스트오더)  돌솥곤드레정식, 단호박오리훈제   \n",
       "1  24.03.12 ~ 24. 12.31 휴업중\\n11:00a.m. ~ 21:00p.m...      묵은지붕어조림, 붕어찜   \n",
       "2                                       11:00-20:00       물 밀면, 비빔밀면\\n   \n",
       "\n",
       "                                     MAIN_IMG_NORMAL  \\\n",
       "0  https://www.visitbusan.net/uploadImgs/files/cn...   \n",
       "1  https://www.visitbusan.net/uploadImgs/files/cn...   \n",
       "2  https://www.visitbusan.net/uploadImgs/files/cn...   \n",
       "\n",
       "                                      MAIN_IMG_THUMB  \\\n",
       "0  https://www.visitbusan.net/uploadImgs/files/cn...   \n",
       "1  https://www.visitbusan.net/uploadImgs/files/cn...   \n",
       "2  https://www.visitbusan.net/uploadImgs/files/cn...   \n",
       "\n",
       "                                          ITEMCNTNTS  \n",
       "0  곤드레밥에는 일반적으로 건조 곤드레나물이 사용되는데,\\n이곳은 생 곤드레나물을 사용...  \n",
       "1  30년간 운영해온 생선찜전문점으로, 전통방식인 나무통을 사용하여 조리하는 것이 특징...  \n",
       "2  유명한 밀면전문점으로, 밀가루에 옥수수 전분을 섞어, 다른 밀면전문점들보다 더 탄력...  "
      ]
     },
     "execution_count": 47,
     "metadata": {},
     "output_type": "execute_result"
    }
   ],
   "source": [
    "df.head(3)"
   ]
  },
  {
   "cell_type": "code",
   "execution_count": 48,
   "metadata": {},
   "outputs": [
    {
     "data": {
      "text/plain": [
       "'만드리곤드레밥'"
      ]
     },
     "execution_count": 48,
     "metadata": {},
     "output_type": "execute_result"
    }
   ],
   "source": [
    "df.loc[0, 'TITLE']"
   ]
  },
  {
   "cell_type": "code",
   "execution_count": 49,
   "metadata": {},
   "outputs": [
    {
     "data": {
      "text/plain": [
       "'돌솥곤드레정식, 단호박오리훈제'"
      ]
     },
     "execution_count": 49,
     "metadata": {},
     "output_type": "execute_result"
    }
   ],
   "source": [
    "df.loc[0, 'RPRSNTV_MENU']"
   ]
  },
  {
   "cell_type": "code",
   "execution_count": 50,
   "metadata": {},
   "outputs": [
    {
     "data": {
      "text/html": [
       "<div>\n",
       "<style scoped>\n",
       "    .dataframe tbody tr th:only-of-type {\n",
       "        vertical-align: middle;\n",
       "    }\n",
       "\n",
       "    .dataframe tbody tr th {\n",
       "        vertical-align: top;\n",
       "    }\n",
       "\n",
       "    .dataframe thead th {\n",
       "        text-align: right;\n",
       "    }\n",
       "</style>\n",
       "<table border=\"1\" class=\"dataframe\">\n",
       "  <thead>\n",
       "    <tr style=\"text-align: right;\">\n",
       "      <th></th>\n",
       "      <th>MAIN_TITLE</th>\n",
       "      <th>RPRSNTV_MENU</th>\n",
       "      <th>ADDR1</th>\n",
       "    </tr>\n",
       "  </thead>\n",
       "  <tbody>\n",
       "    <tr>\n",
       "      <th>0</th>\n",
       "      <td>만드리곤드레밥</td>\n",
       "      <td>돌솥곤드레정식, 단호박오리훈제</td>\n",
       "      <td>강서구 공항앞길 85번길 13</td>\n",
       "    </tr>\n",
       "    <tr>\n",
       "      <th>1</th>\n",
       "      <td>민물가든</td>\n",
       "      <td>묵은지붕어조림, 붕어찜</td>\n",
       "      <td>강서구 둔치중앙길5(봉림동)</td>\n",
       "    </tr>\n",
       "    <tr>\n",
       "      <th>2</th>\n",
       "      <td>가야할매밀면</td>\n",
       "      <td>물 밀면, 비빔밀면\\n</td>\n",
       "      <td>부산 연제구 월드컵대로 145번길 32\\n</td>\n",
       "    </tr>\n",
       "  </tbody>\n",
       "</table>\n",
       "</div>"
      ],
      "text/plain": [
       "  MAIN_TITLE      RPRSNTV_MENU                    ADDR1\n",
       "0    만드리곤드레밥  돌솥곤드레정식, 단호박오리훈제         강서구 공항앞길 85번길 13\n",
       "1       민물가든      묵은지붕어조림, 붕어찜         강서구 둔치중앙길5(봉림동) \n",
       "2     가야할매밀면      물 밀면, 비빔밀면\\n  부산 연제구 월드컵대로 145번길 32\\n"
      ]
     },
     "execution_count": 50,
     "metadata": {},
     "output_type": "execute_result"
    }
   ],
   "source": [
    "df[['MAIN_TITLE', 'RPRSNTV_MENU', 'ADDR1', ]].head(3)"
   ]
  },
  {
   "cell_type": "code",
   "execution_count": 51,
   "metadata": {},
   "outputs": [
    {
     "data": {
      "text/html": [
       "<div>\n",
       "<style scoped>\n",
       "    .dataframe tbody tr th:only-of-type {\n",
       "        vertical-align: middle;\n",
       "    }\n",
       "\n",
       "    .dataframe tbody tr th {\n",
       "        vertical-align: top;\n",
       "    }\n",
       "\n",
       "    .dataframe thead th {\n",
       "        text-align: right;\n",
       "    }\n",
       "</style>\n",
       "<table border=\"1\" class=\"dataframe\">\n",
       "  <thead>\n",
       "    <tr style=\"text-align: right;\">\n",
       "      <th></th>\n",
       "      <th>UC_SEQ</th>\n",
       "      <th>MAIN_TITLE</th>\n",
       "      <th>GUGUN_NM</th>\n",
       "      <th>LAT</th>\n",
       "      <th>LNG</th>\n",
       "      <th>PLACE</th>\n",
       "      <th>TITLE</th>\n",
       "      <th>SUBTITLE</th>\n",
       "      <th>ADDR1</th>\n",
       "      <th>ADDR2</th>\n",
       "      <th>CNTCT_TEL</th>\n",
       "      <th>HOMEPAGE_URL</th>\n",
       "      <th>USAGE_DAY_WEEK_AND_TIME</th>\n",
       "      <th>RPRSNTV_MENU</th>\n",
       "      <th>MAIN_IMG_NORMAL</th>\n",
       "      <th>MAIN_IMG_THUMB</th>\n",
       "      <th>ITEMCNTNTS</th>\n",
       "    </tr>\n",
       "  </thead>\n",
       "  <tbody>\n",
       "    <tr>\n",
       "      <th>0</th>\n",
       "      <td>70</td>\n",
       "      <td>만드리곤드레밥</td>\n",
       "      <td>강서구</td>\n",
       "      <td>35.177387</td>\n",
       "      <td>128.95245</td>\n",
       "      <td>만드리곤드레밥</td>\n",
       "      <td>만드리곤드레밥</td>\n",
       "      <td>NaN</td>\n",
       "      <td>강서구 공항앞길 85번길 13</td>\n",
       "      <td>NaN</td>\n",
       "      <td>051-941-3669</td>\n",
       "      <td>NaN</td>\n",
       "      <td>10:00-20:00\\n(19:50 라스트오더)</td>\n",
       "      <td>돌솥곤드레정식, 단호박오리훈제</td>\n",
       "      <td>https://www.visitbusan.net/uploadImgs/files/cn...</td>\n",
       "      <td>https://www.visitbusan.net/uploadImgs/files/cn...</td>\n",
       "      <td>곤드레밥에는 일반적으로 건조 곤드레나물이 사용되는데,\\n이곳은 생 곤드레나물을 사용...</td>\n",
       "    </tr>\n",
       "    <tr>\n",
       "      <th>1</th>\n",
       "      <td>77</td>\n",
       "      <td>민물가든</td>\n",
       "      <td>강서구</td>\n",
       "      <td>35.160550</td>\n",
       "      <td>128.89468</td>\n",
       "      <td>민물가든</td>\n",
       "      <td>민물가든</td>\n",
       "      <td>민물가든</td>\n",
       "      <td>강서구 둔치중앙길5(봉림동)</td>\n",
       "      <td>NaN</td>\n",
       "      <td>051-971-8428</td>\n",
       "      <td>https://blog.naver.com/rladba1</td>\n",
       "      <td>24.03.12 ~ 24. 12.31 휴업중\\n11:00a.m. ~ 21:00p.m...</td>\n",
       "      <td>묵은지붕어조림, 붕어찜</td>\n",
       "      <td>https://www.visitbusan.net/uploadImgs/files/cn...</td>\n",
       "      <td>https://www.visitbusan.net/uploadImgs/files/cn...</td>\n",
       "      <td>30년간 운영해온 생선찜전문점으로, 전통방식인 나무통을 사용하여 조리하는 것이 특징...</td>\n",
       "    </tr>\n",
       "    <tr>\n",
       "      <th>2</th>\n",
       "      <td>94</td>\n",
       "      <td>가야할매밀면</td>\n",
       "      <td>연제구</td>\n",
       "      <td>35.185196</td>\n",
       "      <td>129.07988</td>\n",
       "      <td>가야할매밀면</td>\n",
       "      <td>가야할매밀면</td>\n",
       "      <td>가야할매밀면</td>\n",
       "      <td>부산 연제구 월드컵대로 145번길 32\\n</td>\n",
       "      <td>NaN</td>\n",
       "      <td>051-865-8017</td>\n",
       "      <td>NaN</td>\n",
       "      <td>11:00-20:00</td>\n",
       "      <td>물 밀면, 비빔밀면\\n</td>\n",
       "      <td>https://www.visitbusan.net/uploadImgs/files/cn...</td>\n",
       "      <td>https://www.visitbusan.net/uploadImgs/files/cn...</td>\n",
       "      <td>유명한 밀면전문점으로, 밀가루에 옥수수 전분을 섞어, 다른 밀면전문점들보다 더 탄력...</td>\n",
       "    </tr>\n",
       "    <tr>\n",
       "      <th>3</th>\n",
       "      <td>95</td>\n",
       "      <td>국제밀면본점</td>\n",
       "      <td>연제구</td>\n",
       "      <td>35.196890</td>\n",
       "      <td>129.07785</td>\n",
       "      <td>국제밀면본점</td>\n",
       "      <td>국제밀면본점</td>\n",
       "      <td>NaN</td>\n",
       "      <td>연제구 중앙대로1235번길 23-6</td>\n",
       "      <td>NaN</td>\n",
       "      <td>051-501-5507</td>\n",
       "      <td>NaN</td>\n",
       "      <td>10:00-20:00\\n4~9월 10:00-21:00 (라스트오더 20:30 전후)\\n</td>\n",
       "      <td>물밀면, 비빔밀면</td>\n",
       "      <td>https://www.visitbusan.net/uploadImgs/files/cn...</td>\n",
       "      <td>https://www.visitbusan.net/uploadImgs/files/cn...</td>\n",
       "      <td>밀면전문점 중에서도 특히 맛으로 소문난 이곳은\\n소 사골만을 사용한 육수 등 독창적...</td>\n",
       "    </tr>\n",
       "    <tr>\n",
       "      <th>4</th>\n",
       "      <td>102</td>\n",
       "      <td>할매가야밀면</td>\n",
       "      <td>중구</td>\n",
       "      <td>35.098934</td>\n",
       "      <td>129.03122</td>\n",
       "      <td>할매가야밀면</td>\n",
       "      <td>할매가야밀면</td>\n",
       "      <td>NaN</td>\n",
       "      <td>중구 광복로 56-14</td>\n",
       "      <td>NaN</td>\n",
       "      <td>051-246-3314</td>\n",
       "      <td>NaN</td>\n",
       "      <td>10:30-21:30</td>\n",
       "      <td>밀면, 비빔밀면</td>\n",
       "      <td>https://www.visitbusan.net/uploadImgs/files/cn...</td>\n",
       "      <td>https://www.visitbusan.net/uploadImgs/files/cn...</td>\n",
       "      <td>깔끔한 맛의 육수가 인상적인 40년 전통의 밀면 전문점으로, \\n식사시간에는 항상 ...</td>\n",
       "    </tr>\n",
       "  </tbody>\n",
       "</table>\n",
       "</div>"
      ],
      "text/plain": [
       "   UC_SEQ MAIN_TITLE GUGUN_NM        LAT        LNG    PLACE    TITLE  \\\n",
       "0      70    만드리곤드레밥      강서구  35.177387  128.95245  만드리곤드레밥  만드리곤드레밥   \n",
       "1      77       민물가든      강서구  35.160550  128.89468     민물가든     민물가든   \n",
       "2      94     가야할매밀면      연제구  35.185196  129.07988   가야할매밀면   가야할매밀면   \n",
       "3      95     국제밀면본점      연제구  35.196890  129.07785   국제밀면본점   국제밀면본점   \n",
       "4     102     할매가야밀면       중구  35.098934  129.03122   할매가야밀면   할매가야밀면   \n",
       "\n",
       "  SUBTITLE                    ADDR1 ADDR2     CNTCT_TEL  \\\n",
       "0      NaN         강서구 공항앞길 85번길 13   NaN  051-941-3669   \n",
       "1     민물가든         강서구 둔치중앙길5(봉림동)    NaN  051-971-8428   \n",
       "2   가야할매밀면  부산 연제구 월드컵대로 145번길 32\\n   NaN  051-865-8017   \n",
       "3      NaN     연제구 중앙대로1235번길 23-6    NaN  051-501-5507   \n",
       "4      NaN             중구 광복로 56-14   NaN  051-246-3314   \n",
       "\n",
       "                     HOMEPAGE_URL  \\\n",
       "0                             NaN   \n",
       "1  https://blog.naver.com/rladba1   \n",
       "2                             NaN   \n",
       "3                             NaN   \n",
       "4                             NaN   \n",
       "\n",
       "                             USAGE_DAY_WEEK_AND_TIME      RPRSNTV_MENU  \\\n",
       "0                         10:00-20:00\\n(19:50 라스트오더)  돌솥곤드레정식, 단호박오리훈제   \n",
       "1  24.03.12 ~ 24. 12.31 휴업중\\n11:00a.m. ~ 21:00p.m...      묵은지붕어조림, 붕어찜   \n",
       "2                                       11:00-20:00       물 밀면, 비빔밀면\\n   \n",
       "3   10:00-20:00\\n4~9월 10:00-21:00 (라스트오더 20:30 전후)\\n         물밀면, 비빔밀면   \n",
       "4                                        10:30-21:30          밀면, 비빔밀면   \n",
       "\n",
       "                                     MAIN_IMG_NORMAL  \\\n",
       "0  https://www.visitbusan.net/uploadImgs/files/cn...   \n",
       "1  https://www.visitbusan.net/uploadImgs/files/cn...   \n",
       "2  https://www.visitbusan.net/uploadImgs/files/cn...   \n",
       "3  https://www.visitbusan.net/uploadImgs/files/cn...   \n",
       "4  https://www.visitbusan.net/uploadImgs/files/cn...   \n",
       "\n",
       "                                      MAIN_IMG_THUMB  \\\n",
       "0  https://www.visitbusan.net/uploadImgs/files/cn...   \n",
       "1  https://www.visitbusan.net/uploadImgs/files/cn...   \n",
       "2  https://www.visitbusan.net/uploadImgs/files/cn...   \n",
       "3  https://www.visitbusan.net/uploadImgs/files/cn...   \n",
       "4  https://www.visitbusan.net/uploadImgs/files/cn...   \n",
       "\n",
       "                                          ITEMCNTNTS  \n",
       "0  곤드레밥에는 일반적으로 건조 곤드레나물이 사용되는데,\\n이곳은 생 곤드레나물을 사용...  \n",
       "1  30년간 운영해온 생선찜전문점으로, 전통방식인 나무통을 사용하여 조리하는 것이 특징...  \n",
       "2  유명한 밀면전문점으로, 밀가루에 옥수수 전분을 섞어, 다른 밀면전문점들보다 더 탄력...  \n",
       "3  밀면전문점 중에서도 특히 맛으로 소문난 이곳은\\n소 사골만을 사용한 육수 등 독창적...  \n",
       "4  깔끔한 맛의 육수가 인상적인 40년 전통의 밀면 전문점으로, \\n식사시간에는 항상 ...  "
      ]
     },
     "execution_count": 51,
     "metadata": {},
     "output_type": "execute_result"
    }
   ],
   "source": [
    "df2 = pd.read_csv('food_data.csv')\n",
    "df2.head(5)"
   ]
  },
  {
   "cell_type": "code",
   "execution_count": 52,
   "metadata": {},
   "outputs": [
    {
     "data": {
      "text/plain": [
       "0    돌솥곤드레정식, 단호박오리훈제\n",
       "1        묵은지붕어조림, 붕어찜\n",
       "2        물 밀면, 비빔밀면\\n\n",
       "3           물밀면, 비빔밀면\n",
       "4            밀면, 비빔밀면\n",
       "Name: RPRSNTV_MENU, dtype: object"
      ]
     },
     "execution_count": 52,
     "metadata": {},
     "output_type": "execute_result"
    }
   ],
   "source": [
    "df2['RPRSNTV_MENU'].head(5)"
   ]
  },
  {
   "cell_type": "code",
   "execution_count": 53,
   "metadata": {},
   "outputs": [],
   "source": [
    "def clean_data(x):\n",
    "    if isinstance(x, str):\n",
    "        list = x.split(',')\n",
    "        list = [item.replace('\\n', '').strip() for item in list]\n",
    "        return list\n",
    "    "
   ]
  },
  {
   "cell_type": "code",
   "execution_count": 54,
   "metadata": {},
   "outputs": [
    {
     "data": {
      "text/plain": [
       "['물 밀면', '비빔밀면']"
      ]
     },
     "execution_count": 54,
     "metadata": {},
     "output_type": "execute_result"
    }
   ],
   "source": [
    "clean_data(df2.loc[2, 'RPRSNTV_MENU'])\n"
   ]
  },
  {
   "cell_type": "code",
   "execution_count": 55,
   "metadata": {},
   "outputs": [
    {
     "data": {
      "text/plain": [
       "0    [돌솥곤드레정식, 단호박오리훈제]\n",
       "1        [묵은지붕어조림, 붕어찜]\n",
       "2          [물 밀면, 비빔밀면]\n",
       "Name: RPRSNTV_MENU, dtype: object"
      ]
     },
     "execution_count": 55,
     "metadata": {},
     "output_type": "execute_result"
    }
   ],
   "source": [
    "df2['RPRSNTV_MENU'] = df2['RPRSNTV_MENU'].apply(clean_data)\n",
    "df2['RPRSNTV_MENU'].head(3)"
   ]
  },
  {
   "cell_type": "code",
   "execution_count": 56,
   "metadata": {},
   "outputs": [],
   "source": [
    "datas = ['MAIN_TITLE', 'RPRSNTV_MENU', 'ADDR1']\n",
    "\n"
   ]
  },
  {
   "cell_type": "code",
   "execution_count": 57,
   "metadata": {},
   "outputs": [
    {
     "data": {
      "text/html": [
       "<div>\n",
       "<style scoped>\n",
       "    .dataframe tbody tr th:only-of-type {\n",
       "        vertical-align: middle;\n",
       "    }\n",
       "\n",
       "    .dataframe tbody tr th {\n",
       "        vertical-align: top;\n",
       "    }\n",
       "\n",
       "    .dataframe thead th {\n",
       "        text-align: right;\n",
       "    }\n",
       "</style>\n",
       "<table border=\"1\" class=\"dataframe\">\n",
       "  <thead>\n",
       "    <tr style=\"text-align: right;\">\n",
       "      <th></th>\n",
       "      <th>MAIN_TITLE</th>\n",
       "      <th>RPRSNTV_MENU</th>\n",
       "      <th>ADDR1</th>\n",
       "    </tr>\n",
       "  </thead>\n",
       "  <tbody>\n",
       "    <tr>\n",
       "      <th>0</th>\n",
       "      <td>만드리곤드레밥</td>\n",
       "      <td>[돌솥곤드레정식, 단호박오리훈제]</td>\n",
       "      <td>강서구 공항앞길 85번길 13</td>\n",
       "    </tr>\n",
       "    <tr>\n",
       "      <th>1</th>\n",
       "      <td>민물가든</td>\n",
       "      <td>[묵은지붕어조림, 붕어찜]</td>\n",
       "      <td>강서구 둔치중앙길5(봉림동)</td>\n",
       "    </tr>\n",
       "    <tr>\n",
       "      <th>2</th>\n",
       "      <td>가야할매밀면</td>\n",
       "      <td>[물 밀면, 비빔밀면]</td>\n",
       "      <td>부산 연제구 월드컵대로 145번길 32\\n</td>\n",
       "    </tr>\n",
       "    <tr>\n",
       "      <th>3</th>\n",
       "      <td>국제밀면본점</td>\n",
       "      <td>[물밀면, 비빔밀면]</td>\n",
       "      <td>연제구 중앙대로1235번길 23-6</td>\n",
       "    </tr>\n",
       "    <tr>\n",
       "      <th>4</th>\n",
       "      <td>할매가야밀면</td>\n",
       "      <td>[밀면, 비빔밀면]</td>\n",
       "      <td>중구 광복로 56-14</td>\n",
       "    </tr>\n",
       "    <tr>\n",
       "      <th>...</th>\n",
       "      <td>...</td>\n",
       "      <td>...</td>\n",
       "      <td>...</td>\n",
       "    </tr>\n",
       "    <tr>\n",
       "      <th>95</th>\n",
       "      <td>해물왕창칼국수</td>\n",
       "      <td>[해물왕창칼국수(2인부터 주문), 육전물밀면]</td>\n",
       "      <td>사상구 사상로 316</td>\n",
       "    </tr>\n",
       "    <tr>\n",
       "      <th>96</th>\n",
       "      <td>할매재첩국부산본점</td>\n",
       "      <td>[재첩정식, 재첩덮밥]</td>\n",
       "      <td>수영구 광남로120번길 8</td>\n",
       "    </tr>\n",
       "    <tr>\n",
       "      <th>97</th>\n",
       "      <td>동래할매파전</td>\n",
       "      <td>[동래할매파전, 동래고동찜]</td>\n",
       "      <td>동래구 명륜로 94번길 43-10</td>\n",
       "    </tr>\n",
       "    <tr>\n",
       "      <th>98</th>\n",
       "      <td>박해윤통영해물밥상</td>\n",
       "      <td>[해물밥상, 보리굴비밥상]</td>\n",
       "      <td>동래구 연안로 38</td>\n",
       "    </tr>\n",
       "    <tr>\n",
       "      <th>99</th>\n",
       "      <td>원조꼬리곰집</td>\n",
       "      <td>[한우 꼬리수육, 꼬리탕]</td>\n",
       "      <td>동래구 온천장로 52</td>\n",
       "    </tr>\n",
       "  </tbody>\n",
       "</table>\n",
       "<p>100 rows × 3 columns</p>\n",
       "</div>"
      ],
      "text/plain": [
       "   MAIN_TITLE               RPRSNTV_MENU                    ADDR1\n",
       "0     만드리곤드레밥         [돌솥곤드레정식, 단호박오리훈제]         강서구 공항앞길 85번길 13\n",
       "1        민물가든             [묵은지붕어조림, 붕어찜]         강서구 둔치중앙길5(봉림동) \n",
       "2      가야할매밀면               [물 밀면, 비빔밀면]  부산 연제구 월드컵대로 145번길 32\\n\n",
       "3      국제밀면본점                [물밀면, 비빔밀면]     연제구 중앙대로1235번길 23-6 \n",
       "4      할매가야밀면                 [밀면, 비빔밀면]             중구 광복로 56-14\n",
       "..        ...                        ...                      ...\n",
       "95    해물왕창칼국수  [해물왕창칼국수(2인부터 주문), 육전물밀면]              사상구 사상로 316\n",
       "96  할매재첩국부산본점               [재첩정식, 재첩덮밥]           수영구 광남로120번길 8\n",
       "97     동래할매파전            [동래할매파전, 동래고동찜]       동래구 명륜로 94번길 43-10\n",
       "98  박해윤통영해물밥상             [해물밥상, 보리굴비밥상]               동래구 연안로 38\n",
       "99     원조꼬리곰집             [한우 꼬리수육, 꼬리탕]              동래구 온천장로 52\n",
       "\n",
       "[100 rows x 3 columns]"
      ]
     },
     "execution_count": 57,
     "metadata": {},
     "output_type": "execute_result"
    }
   ],
   "source": [
    "df2[['MAIN_TITLE', 'RPRSNTV_MENU', 'ADDR1' ]].head(100)\n"
   ]
  },
  {
   "cell_type": "code",
   "execution_count": 58,
   "metadata": {},
   "outputs": [
    {
     "data": {
      "text/plain": [
       "0               만드리곤드레밥 돌솥곤드레정식 단호박오리훈제 강서구 공항앞길 85번길 13\n",
       "1                      민물가든 묵은지붕어조림 붕어찜 강서구 둔치중앙길5(봉림동) \n",
       "2               가야할매밀면 물 밀면 비빔밀면 부산 연제구 월드컵대로 145번길 32\\n\n",
       "3                   국제밀면본점 물밀면 비빔밀면 연제구 중앙대로1235번길 23-6 \n",
       "4                            할매가야밀면 밀면 비빔밀면 중구 광복로 56-14\n",
       "                             ...                        \n",
       "389    옵스 학원전 참치빵 자연효모빵 명란바게트 크림치즈허니 당근케이크 브리오슈롤 소금빵 ...\n",
       "390    모모스커피 오늘의핸드드립 아메리카노 에스프레소 캉캉 콜드브루 카페라테 시즈널티 레몬...\n",
       "391    베르크로스터스 에스프레소 아메리카노 필터커피 카페라테 콜드브루 얼그레이 베이글 부산...\n",
       "392    블랙업커피 핸드드립커피 에스프레소 아메리카노 유기농밀크티 빅토리아딸기케이크 말차쇼콜...\n",
       "393    히떼로스터리 에스프레소 아메리카노 카페라테 플랫화이트 바닐라라테 아인슈페너 필터커피...\n",
       "Name: soup, Length: 394, dtype: object"
      ]
     },
     "execution_count": 58,
     "metadata": {},
     "output_type": "execute_result"
    }
   ],
   "source": [
    "# Fill None values in 'RPRSNTV_MENU' with an empty list\n",
    "df2['RPRSNTV_MENU'] = df2['RPRSNTV_MENU'].apply(lambda x: x if x is not None else [])\n",
    "\n",
    "def create_soup(x):\n",
    "    return x['MAIN_TITLE'] + ' ' + ' '.join(map(str, x['RPRSNTV_MENU'])) + ' ' + x['ADDR1']\n",
    "\n",
    "df2['soup'] = df2.apply(create_soup, axis=1)\n",
    "df2['soup']"
   ]
  },
  {
   "cell_type": "code",
   "execution_count": 59,
   "metadata": {},
   "outputs": [
    {
     "data": {
      "text/plain": [
       "<Compressed Sparse Row sparse matrix of dtype 'int64'\n",
       "\twith 4429 stored elements and shape (394, 1384)>"
      ]
     },
     "execution_count": 59,
     "metadata": {},
     "output_type": "execute_result"
    }
   ],
   "source": [
    "from sklearn.feature_extraction.text import CountVectorizer\n",
    "from konlpy.tag import Komoran\n",
    "komoran = Komoran()\n",
    "\n",
    "count = CountVectorizer(tokenizer=komoran.nouns, token_pattern=None)\n",
    "count_matrix = count.fit_transform(df2['soup'])\n",
    "count_matrix"
   ]
  },
  {
   "cell_type": "code",
   "execution_count": 60,
   "metadata": {},
   "outputs": [
    {
     "data": {
      "text/plain": [
       "array([[1.        , 0.11268723, 0.1028689 , ..., 0.11664237, 0.11227218,\n",
       "        0.        ],\n",
       "       [0.11268723, 1.        , 0.06085806, ..., 0.06900656, 0.04428074,\n",
       "        0.        ],\n",
       "       [0.1028689 , 0.06085806, 1.        , ..., 0.18898224, 0.12126781,\n",
       "        0.0410305 ],\n",
       "       ...,\n",
       "       [0.11664237, 0.06900656, 0.18898224, ..., 1.        , 0.41251432,\n",
       "        0.37219368],\n",
       "       [0.11227218, 0.04428074, 0.12126781, ..., 0.41251432, 1.        ,\n",
       "        0.23883257],\n",
       "       [0.        , 0.        , 0.0410305 , ..., 0.37219368, 0.23883257,\n",
       "        1.        ]], shape=(394, 394))"
      ]
     },
     "execution_count": 60,
     "metadata": {},
     "output_type": "execute_result"
    }
   ],
   "source": [
    "from sklearn.metrics.pairwise import cosine_similarity\n",
    "cosine_sim2 = cosine_similarity(count_matrix, count_matrix)\n",
    "cosine_sim2"
   ]
  },
  {
   "cell_type": "code",
   "execution_count": 61,
   "metadata": {},
   "outputs": [
    {
     "data": {
      "text/plain": [
       "np.int64(3)"
      ]
     },
     "execution_count": 61,
     "metadata": {},
     "output_type": "execute_result"
    }
   ],
   "source": [
    "indices['국제밀면본점']"
   ]
  },
  {
   "cell_type": "code",
   "execution_count": 62,
   "metadata": {},
   "outputs": [
    {
     "data": {
      "text/plain": [
       "MAIN_TITLE\n",
       "만드리곤드레밥      0\n",
       "민물가든         1\n",
       "가야할매밀면       2\n",
       "국제밀면본점       3\n",
       "할매가야밀면       4\n",
       "          ... \n",
       "옵스         389\n",
       "모모스커피      390\n",
       "베르크로스터스    391\n",
       "블랙업커피      392\n",
       "히떼로스터리     393\n",
       "Length: 394, dtype: int64"
      ]
     },
     "execution_count": 62,
     "metadata": {},
     "output_type": "execute_result"
    }
   ],
   "source": [
    "df2 = df2.reset_index()\n",
    "indices = pd.Series(df2.index, index=df2['MAIN_TITLE'])\n",
    "indices"
   ]
  },
  {
   "cell_type": "code",
   "execution_count": 63,
   "metadata": {},
   "outputs": [
    {
     "data": {
      "text/plain": [
       "2            가야할매밀면\n",
       "86     부산약콩밀면 이기대본점\n",
       "60            만포밀면옥\n",
       "85             삼성밀면\n",
       "4            할매가야밀면\n",
       "87              면채움\n",
       "88             대연밀면\n",
       "228              큐제\n",
       "359            개금밀면\n",
       "125              북경\n",
       "Name: MAIN_TITLE, dtype: object"
      ]
     },
     "execution_count": 63,
     "metadata": {},
     "output_type": "execute_result"
    }
   ],
   "source": [
    "get_recommendations('국제밀면본점', cosine_sim2)"
   ]
  },
  {
   "cell_type": "code",
   "execution_count": 70,
   "metadata": {},
   "outputs": [
    {
     "data": {
      "text/plain": [
       "2            가야할매밀면\n",
       "86     부산약콩밀면 이기대본점\n",
       "60            만포밀면옥\n",
       "85             삼성밀면\n",
       "4            할매가야밀면\n",
       "87              면채움\n",
       "88             대연밀면\n",
       "228              큐제\n",
       "359            개금밀면\n",
       "125              북경\n",
       "Name: MAIN_TITLE, dtype: object"
      ]
     },
     "execution_count": 70,
     "metadata": {},
     "output_type": "execute_result"
    }
   ],
   "source": [
    "get_recommendations('국제밀면본점', cosine_sim2)"
   ]
  },
  {
   "cell_type": "code",
   "execution_count": 73,
   "metadata": {},
   "outputs": [
    {
     "data": {
      "text/html": [
       "<div>\n",
       "<style scoped>\n",
       "    .dataframe tbody tr th:only-of-type {\n",
       "        vertical-align: middle;\n",
       "    }\n",
       "\n",
       "    .dataframe tbody tr th {\n",
       "        vertical-align: top;\n",
       "    }\n",
       "\n",
       "    .dataframe thead th {\n",
       "        text-align: right;\n",
       "    }\n",
       "</style>\n",
       "<table border=\"1\" class=\"dataframe\">\n",
       "  <thead>\n",
       "    <tr style=\"text-align: right;\">\n",
       "      <th></th>\n",
       "      <th>MAIN_TITLE</th>\n",
       "      <th>GUGUN_NM</th>\n",
       "      <th>RPRSNTV_MENU</th>\n",
       "      <th>ADDR1</th>\n",
       "      <th>MAIN_IMG_NORMAL</th>\n",
       "      <th>ITEMCNTNTS</th>\n",
       "      <th>CNTCT_TEL</th>\n",
       "      <th>USAGE_DAY_WEEK_AND_TIME</th>\n",
       "      <th>HOMEPAGE_URL</th>\n",
       "    </tr>\n",
       "  </thead>\n",
       "  <tbody>\n",
       "    <tr>\n",
       "      <th>0</th>\n",
       "      <td>만드리곤드레밥</td>\n",
       "      <td>강서구</td>\n",
       "      <td>[돌솥곤드레정식, 단호박오리훈제]</td>\n",
       "      <td>강서구 공항앞길 85번길 13</td>\n",
       "      <td>https://www.visitbusan.net/uploadImgs/files/cn...</td>\n",
       "      <td>곤드레밥에는 일반적으로 건조 곤드레나물이 사용되는데,\\n이곳은 생 곤드레나물을 사용...</td>\n",
       "      <td>051-941-3669</td>\n",
       "      <td>10:00-20:00\\n(19:50 라스트오더)</td>\n",
       "      <td>NaN</td>\n",
       "    </tr>\n",
       "    <tr>\n",
       "      <th>1</th>\n",
       "      <td>민물가든</td>\n",
       "      <td>강서구</td>\n",
       "      <td>[묵은지붕어조림, 붕어찜]</td>\n",
       "      <td>강서구 둔치중앙길5(봉림동)</td>\n",
       "      <td>https://www.visitbusan.net/uploadImgs/files/cn...</td>\n",
       "      <td>30년간 운영해온 생선찜전문점으로, 전통방식인 나무통을 사용하여 조리하는 것이 특징...</td>\n",
       "      <td>051-971-8428</td>\n",
       "      <td>24.03.12 ~ 24. 12.31 휴업중\\n11:00a.m. ~ 21:00p.m...</td>\n",
       "      <td>https://blog.naver.com/rladba1</td>\n",
       "    </tr>\n",
       "    <tr>\n",
       "      <th>2</th>\n",
       "      <td>가야할매밀면</td>\n",
       "      <td>연제구</td>\n",
       "      <td>[물 밀면, 비빔밀면]</td>\n",
       "      <td>부산 연제구 월드컵대로 145번길 32\\n</td>\n",
       "      <td>https://www.visitbusan.net/uploadImgs/files/cn...</td>\n",
       "      <td>유명한 밀면전문점으로, 밀가루에 옥수수 전분을 섞어, 다른 밀면전문점들보다 더 탄력...</td>\n",
       "      <td>051-865-8017</td>\n",
       "      <td>11:00-20:00</td>\n",
       "      <td>NaN</td>\n",
       "    </tr>\n",
       "    <tr>\n",
       "      <th>3</th>\n",
       "      <td>국제밀면본점</td>\n",
       "      <td>연제구</td>\n",
       "      <td>[물밀면, 비빔밀면]</td>\n",
       "      <td>연제구 중앙대로1235번길 23-6</td>\n",
       "      <td>https://www.visitbusan.net/uploadImgs/files/cn...</td>\n",
       "      <td>밀면전문점 중에서도 특히 맛으로 소문난 이곳은\\n소 사골만을 사용한 육수 등 독창적...</td>\n",
       "      <td>051-501-5507</td>\n",
       "      <td>10:00-20:00\\n4~9월 10:00-21:00 (라스트오더 20:30 전후)\\n</td>\n",
       "      <td>NaN</td>\n",
       "    </tr>\n",
       "    <tr>\n",
       "      <th>4</th>\n",
       "      <td>할매가야밀면</td>\n",
       "      <td>중구</td>\n",
       "      <td>[밀면, 비빔밀면]</td>\n",
       "      <td>중구 광복로 56-14</td>\n",
       "      <td>https://www.visitbusan.net/uploadImgs/files/cn...</td>\n",
       "      <td>깔끔한 맛의 육수가 인상적인 40년 전통의 밀면 전문점으로, \\n식사시간에는 항상 ...</td>\n",
       "      <td>051-246-3314</td>\n",
       "      <td>10:30-21:30</td>\n",
       "      <td>NaN</td>\n",
       "    </tr>\n",
       "  </tbody>\n",
       "</table>\n",
       "</div>"
      ],
      "text/plain": [
       "  MAIN_TITLE GUGUN_NM        RPRSNTV_MENU                    ADDR1  \\\n",
       "0    만드리곤드레밥      강서구  [돌솥곤드레정식, 단호박오리훈제]         강서구 공항앞길 85번길 13   \n",
       "1       민물가든      강서구      [묵은지붕어조림, 붕어찜]         강서구 둔치중앙길5(봉림동)    \n",
       "2     가야할매밀면      연제구        [물 밀면, 비빔밀면]  부산 연제구 월드컵대로 145번길 32\\n   \n",
       "3     국제밀면본점      연제구         [물밀면, 비빔밀면]     연제구 중앙대로1235번길 23-6    \n",
       "4     할매가야밀면       중구          [밀면, 비빔밀면]             중구 광복로 56-14   \n",
       "\n",
       "                                     MAIN_IMG_NORMAL  \\\n",
       "0  https://www.visitbusan.net/uploadImgs/files/cn...   \n",
       "1  https://www.visitbusan.net/uploadImgs/files/cn...   \n",
       "2  https://www.visitbusan.net/uploadImgs/files/cn...   \n",
       "3  https://www.visitbusan.net/uploadImgs/files/cn...   \n",
       "4  https://www.visitbusan.net/uploadImgs/files/cn...   \n",
       "\n",
       "                                          ITEMCNTNTS     CNTCT_TEL  \\\n",
       "0  곤드레밥에는 일반적으로 건조 곤드레나물이 사용되는데,\\n이곳은 생 곤드레나물을 사용...  051-941-3669   \n",
       "1  30년간 운영해온 생선찜전문점으로, 전통방식인 나무통을 사용하여 조리하는 것이 특징...  051-971-8428   \n",
       "2  유명한 밀면전문점으로, 밀가루에 옥수수 전분을 섞어, 다른 밀면전문점들보다 더 탄력...  051-865-8017   \n",
       "3  밀면전문점 중에서도 특히 맛으로 소문난 이곳은\\n소 사골만을 사용한 육수 등 독창적...  051-501-5507   \n",
       "4  깔끔한 맛의 육수가 인상적인 40년 전통의 밀면 전문점으로, \\n식사시간에는 항상 ...  051-246-3314   \n",
       "\n",
       "                             USAGE_DAY_WEEK_AND_TIME  \\\n",
       "0                         10:00-20:00\\n(19:50 라스트오더)   \n",
       "1  24.03.12 ~ 24. 12.31 휴업중\\n11:00a.m. ~ 21:00p.m...   \n",
       "2                                       11:00-20:00    \n",
       "3   10:00-20:00\\n4~9월 10:00-21:00 (라스트오더 20:30 전후)\\n   \n",
       "4                                        10:30-21:30   \n",
       "\n",
       "                     HOMEPAGE_URL  \n",
       "0                             NaN  \n",
       "1  https://blog.naver.com/rladba1  \n",
       "2                             NaN  \n",
       "3                             NaN  \n",
       "4                             NaN  "
      ]
     },
     "execution_count": 73,
     "metadata": {},
     "output_type": "execute_result"
    }
   ],
   "source": [
    "import pickle\n",
    "stores = df2[['MAIN_TITLE','GUGUN_NM', 'RPRSNTV_MENU', 'ADDR1','MAIN_IMG_NORMAL','ITEMCNTNTS','CNTCT_TEL', 'USAGE_DAY_WEEK_AND_TIME','HOMEPAGE_URL']].copy()\n",
    "stores.head()"
   ]
  },
  {
   "cell_type": "code",
   "execution_count": 75,
   "metadata": {},
   "outputs": [],
   "source": [
    "pickle.dump(stores, open('stores.pickle', 'wb'))"
   ]
  },
  {
   "cell_type": "code",
   "execution_count": null,
   "metadata": {},
   "outputs": [],
   "source": [
    "pickle.dump(cosine_sim2, open('cosine_sim.pickle', 'wb'))"
   ]
  },
  {
   "cell_type": "markdown",
   "metadata": {},
   "source": [
    "### 지역별 맛집 선별 시스템"
   ]
  },
  {
   "cell_type": "code",
   "execution_count": 67,
   "metadata": {},
   "outputs": [],
   "source": [
    "import pandas as pd\n",
    "import numpy as np\n",
    "\n",
    "df = pd.read_csv('food_data.csv')"
   ]
  },
  {
   "cell_type": "code",
   "execution_count": 68,
   "metadata": {},
   "outputs": [
    {
     "data": {
      "text/html": [
       "<div>\n",
       "<style scoped>\n",
       "    .dataframe tbody tr th:only-of-type {\n",
       "        vertical-align: middle;\n",
       "    }\n",
       "\n",
       "    .dataframe tbody tr th {\n",
       "        vertical-align: top;\n",
       "    }\n",
       "\n",
       "    .dataframe thead th {\n",
       "        text-align: right;\n",
       "    }\n",
       "</style>\n",
       "<table border=\"1\" class=\"dataframe\">\n",
       "  <thead>\n",
       "    <tr style=\"text-align: right;\">\n",
       "      <th></th>\n",
       "      <th>UC_SEQ</th>\n",
       "      <th>MAIN_TITLE</th>\n",
       "      <th>GUGUN_NM</th>\n",
       "      <th>LAT</th>\n",
       "      <th>LNG</th>\n",
       "      <th>PLACE</th>\n",
       "      <th>TITLE</th>\n",
       "      <th>SUBTITLE</th>\n",
       "      <th>ADDR1</th>\n",
       "      <th>ADDR2</th>\n",
       "      <th>CNTCT_TEL</th>\n",
       "      <th>HOMEPAGE_URL</th>\n",
       "      <th>USAGE_DAY_WEEK_AND_TIME</th>\n",
       "      <th>RPRSNTV_MENU</th>\n",
       "      <th>MAIN_IMG_NORMAL</th>\n",
       "      <th>MAIN_IMG_THUMB</th>\n",
       "      <th>ITEMCNTNTS</th>\n",
       "    </tr>\n",
       "  </thead>\n",
       "  <tbody>\n",
       "    <tr>\n",
       "      <th>0</th>\n",
       "      <td>70</td>\n",
       "      <td>만드리곤드레밥</td>\n",
       "      <td>강서구</td>\n",
       "      <td>35.177387</td>\n",
       "      <td>128.95245</td>\n",
       "      <td>만드리곤드레밥</td>\n",
       "      <td>만드리곤드레밥</td>\n",
       "      <td>NaN</td>\n",
       "      <td>강서구 공항앞길 85번길 13</td>\n",
       "      <td>NaN</td>\n",
       "      <td>051-941-3669</td>\n",
       "      <td>NaN</td>\n",
       "      <td>10:00-20:00\\n(19:50 라스트오더)</td>\n",
       "      <td>돌솥곤드레정식, 단호박오리훈제</td>\n",
       "      <td>https://www.visitbusan.net/uploadImgs/files/cn...</td>\n",
       "      <td>https://www.visitbusan.net/uploadImgs/files/cn...</td>\n",
       "      <td>곤드레밥에는 일반적으로 건조 곤드레나물이 사용되는데,\\n이곳은 생 곤드레나물을 사용...</td>\n",
       "    </tr>\n",
       "    <tr>\n",
       "      <th>1</th>\n",
       "      <td>77</td>\n",
       "      <td>민물가든</td>\n",
       "      <td>강서구</td>\n",
       "      <td>35.160550</td>\n",
       "      <td>128.89468</td>\n",
       "      <td>민물가든</td>\n",
       "      <td>민물가든</td>\n",
       "      <td>민물가든</td>\n",
       "      <td>강서구 둔치중앙길5(봉림동)</td>\n",
       "      <td>NaN</td>\n",
       "      <td>051-971-8428</td>\n",
       "      <td>https://blog.naver.com/rladba1</td>\n",
       "      <td>24.03.12 ~ 24. 12.31 휴업중\\n11:00a.m. ~ 21:00p.m...</td>\n",
       "      <td>묵은지붕어조림, 붕어찜</td>\n",
       "      <td>https://www.visitbusan.net/uploadImgs/files/cn...</td>\n",
       "      <td>https://www.visitbusan.net/uploadImgs/files/cn...</td>\n",
       "      <td>30년간 운영해온 생선찜전문점으로, 전통방식인 나무통을 사용하여 조리하는 것이 특징...</td>\n",
       "    </tr>\n",
       "    <tr>\n",
       "      <th>2</th>\n",
       "      <td>94</td>\n",
       "      <td>가야할매밀면</td>\n",
       "      <td>연제구</td>\n",
       "      <td>35.185196</td>\n",
       "      <td>129.07988</td>\n",
       "      <td>가야할매밀면</td>\n",
       "      <td>가야할매밀면</td>\n",
       "      <td>가야할매밀면</td>\n",
       "      <td>부산 연제구 월드컵대로 145번길 32\\n</td>\n",
       "      <td>NaN</td>\n",
       "      <td>051-865-8017</td>\n",
       "      <td>NaN</td>\n",
       "      <td>11:00-20:00</td>\n",
       "      <td>물 밀면, 비빔밀면\\n</td>\n",
       "      <td>https://www.visitbusan.net/uploadImgs/files/cn...</td>\n",
       "      <td>https://www.visitbusan.net/uploadImgs/files/cn...</td>\n",
       "      <td>유명한 밀면전문점으로, 밀가루에 옥수수 전분을 섞어, 다른 밀면전문점들보다 더 탄력...</td>\n",
       "    </tr>\n",
       "  </tbody>\n",
       "</table>\n",
       "</div>"
      ],
      "text/plain": [
       "   UC_SEQ MAIN_TITLE GUGUN_NM        LAT        LNG    PLACE    TITLE  \\\n",
       "0      70    만드리곤드레밥      강서구  35.177387  128.95245  만드리곤드레밥  만드리곤드레밥   \n",
       "1      77       민물가든      강서구  35.160550  128.89468     민물가든     민물가든   \n",
       "2      94     가야할매밀면      연제구  35.185196  129.07988   가야할매밀면   가야할매밀면   \n",
       "\n",
       "  SUBTITLE                    ADDR1 ADDR2     CNTCT_TEL  \\\n",
       "0      NaN         강서구 공항앞길 85번길 13   NaN  051-941-3669   \n",
       "1     민물가든         강서구 둔치중앙길5(봉림동)    NaN  051-971-8428   \n",
       "2   가야할매밀면  부산 연제구 월드컵대로 145번길 32\\n   NaN  051-865-8017   \n",
       "\n",
       "                     HOMEPAGE_URL  \\\n",
       "0                             NaN   \n",
       "1  https://blog.naver.com/rladba1   \n",
       "2                             NaN   \n",
       "\n",
       "                             USAGE_DAY_WEEK_AND_TIME      RPRSNTV_MENU  \\\n",
       "0                         10:00-20:00\\n(19:50 라스트오더)  돌솥곤드레정식, 단호박오리훈제   \n",
       "1  24.03.12 ~ 24. 12.31 휴업중\\n11:00a.m. ~ 21:00p.m...      묵은지붕어조림, 붕어찜   \n",
       "2                                       11:00-20:00       물 밀면, 비빔밀면\\n   \n",
       "\n",
       "                                     MAIN_IMG_NORMAL  \\\n",
       "0  https://www.visitbusan.net/uploadImgs/files/cn...   \n",
       "1  https://www.visitbusan.net/uploadImgs/files/cn...   \n",
       "2  https://www.visitbusan.net/uploadImgs/files/cn...   \n",
       "\n",
       "                                      MAIN_IMG_THUMB  \\\n",
       "0  https://www.visitbusan.net/uploadImgs/files/cn...   \n",
       "1  https://www.visitbusan.net/uploadImgs/files/cn...   \n",
       "2  https://www.visitbusan.net/uploadImgs/files/cn...   \n",
       "\n",
       "                                          ITEMCNTNTS  \n",
       "0  곤드레밥에는 일반적으로 건조 곤드레나물이 사용되는데,\\n이곳은 생 곤드레나물을 사용...  \n",
       "1  30년간 운영해온 생선찜전문점으로, 전통방식인 나무통을 사용하여 조리하는 것이 특징...  \n",
       "2  유명한 밀면전문점으로, 밀가루에 옥수수 전분을 섞어, 다른 밀면전문점들보다 더 탄력...  "
      ]
     },
     "execution_count": 68,
     "metadata": {},
     "output_type": "execute_result"
    }
   ],
   "source": [
    "df.head(3)"
   ]
  },
  {
   "cell_type": "code",
   "execution_count": 69,
   "metadata": {},
   "outputs": [
    {
     "data": {
      "text/html": [
       "<div>\n",
       "<style scoped>\n",
       "    .dataframe tbody tr th:only-of-type {\n",
       "        vertical-align: middle;\n",
       "    }\n",
       "\n",
       "    .dataframe tbody tr th {\n",
       "        vertical-align: top;\n",
       "    }\n",
       "\n",
       "    .dataframe thead th {\n",
       "        text-align: right;\n",
       "    }\n",
       "</style>\n",
       "<table border=\"1\" class=\"dataframe\">\n",
       "  <thead>\n",
       "    <tr style=\"text-align: right;\">\n",
       "      <th></th>\n",
       "      <th>UC_SEQ</th>\n",
       "      <th>MAIN_TITLE</th>\n",
       "      <th>GUGUN_NM</th>\n",
       "      <th>LAT</th>\n",
       "      <th>LNG</th>\n",
       "      <th>PLACE</th>\n",
       "      <th>TITLE</th>\n",
       "      <th>SUBTITLE</th>\n",
       "      <th>ADDR1</th>\n",
       "      <th>ADDR2</th>\n",
       "      <th>CNTCT_TEL</th>\n",
       "      <th>HOMEPAGE_URL</th>\n",
       "      <th>USAGE_DAY_WEEK_AND_TIME</th>\n",
       "      <th>RPRSNTV_MENU</th>\n",
       "      <th>MAIN_IMG_NORMAL</th>\n",
       "      <th>MAIN_IMG_THUMB</th>\n",
       "      <th>ITEMCNTNTS</th>\n",
       "    </tr>\n",
       "  </thead>\n",
       "  <tbody>\n",
       "    <tr>\n",
       "      <th>193</th>\n",
       "      <td>865</td>\n",
       "      <td>방코</td>\n",
       "      <td>강서구</td>\n",
       "      <td>35.115460</td>\n",
       "      <td>128.92226</td>\n",
       "      <td>방코</td>\n",
       "      <td>방코</td>\n",
       "      <td>NaN</td>\n",
       "      <td>강서구 새진목길 51, 1,2층</td>\n",
       "      <td>NaN</td>\n",
       "      <td>051-271-2068</td>\n",
       "      <td>NaN</td>\n",
       "      <td>월-금 11:30-20:30\\n(14:30-17:00 브레이크 타임)\\n(13:30...</td>\n",
       "      <td>풍기 트러플 피자 , 무화과 블루치즈 피자</td>\n",
       "      <td>https://www.visitbusan.net/uploadImgs/files/cn...</td>\n",
       "      <td>https://www.visitbusan.net/uploadImgs/files/cn...</td>\n",
       "      <td>특이한 외관의 이 건물은 화덕에 구운 피자와 파스타를 만드는 곳이다.\\n신선한 재료...</td>\n",
       "    </tr>\n",
       "    <tr>\n",
       "      <th>252</th>\n",
       "      <td>72</td>\n",
       "      <td>만호갈미샤브샤브</td>\n",
       "      <td>강서구</td>\n",
       "      <td>35.101425</td>\n",
       "      <td>128.92914</td>\n",
       "      <td>만호갈미샤브샤브</td>\n",
       "      <td>만호갈미샤브샤브</td>\n",
       "      <td>NaN</td>\n",
       "      <td>강서구 르노삼성대로 602</td>\n",
       "      <td>NaN</td>\n",
       "      <td>051-271-4389</td>\n",
       "      <td>NaN</td>\n",
       "      <td>11:00-21:30 (20:30 라스트오더)</td>\n",
       "      <td>갈미샤브샤브, 갈미조개삼겹살</td>\n",
       "      <td>https://www.visitbusan.net/uploadImgs/files/cn...</td>\n",
       "      <td>https://www.visitbusan.net/uploadImgs/files/cn...</td>\n",
       "      <td>샤브샤브, 수육, 구이 등 다양한 방식으로 갈미조개를 요리하는 갈미조개 전문 식당....</td>\n",
       "    </tr>\n",
       "    <tr>\n",
       "      <th>140</th>\n",
       "      <td>1491</td>\n",
       "      <td>칸웨이</td>\n",
       "      <td>강서구</td>\n",
       "      <td>35.081410</td>\n",
       "      <td>128.90326</td>\n",
       "      <td>칸웨이</td>\n",
       "      <td>칸웨이</td>\n",
       "      <td>NaN</td>\n",
       "      <td>강서구 명지오션시티4로 84 9층</td>\n",
       "      <td>NaN</td>\n",
       "      <td>0507-1308-7173</td>\n",
       "      <td>NaN</td>\n",
       "      <td>11:00-15:00 / 17:00-22:00\\n(20:30 라스트오더)</td>\n",
       "      <td>요리코스1, 돼지고기탕수육</td>\n",
       "      <td>https://www.visitbusan.net/uploadImgs/files/cn...</td>\n",
       "      <td>https://www.visitbusan.net/uploadImgs/files/cn...</td>\n",
       "      <td>롯데호텔 중식당과 한식당의 책임자로 \\n각종 국제행사를 책임지던 대표가 선보이는 고...</td>\n",
       "    </tr>\n",
       "  </tbody>\n",
       "</table>\n",
       "</div>"
      ],
      "text/plain": [
       "     UC_SEQ MAIN_TITLE GUGUN_NM        LAT        LNG     PLACE     TITLE  \\\n",
       "193     865         방코      강서구  35.115460  128.92226        방코        방코   \n",
       "252      72   만호갈미샤브샤브      강서구  35.101425  128.92914  만호갈미샤브샤브  만호갈미샤브샤브   \n",
       "140    1491        칸웨이      강서구  35.081410  128.90326       칸웨이       칸웨이   \n",
       "\n",
       "    SUBTITLE               ADDR1 ADDR2       CNTCT_TEL HOMEPAGE_URL  \\\n",
       "193      NaN   강서구 새진목길 51, 1,2층   NaN    051-271-2068          NaN   \n",
       "252      NaN      강서구 르노삼성대로 602   NaN    051-271-4389          NaN   \n",
       "140      NaN  강서구 명지오션시티4로 84 9층   NaN  0507-1308-7173          NaN   \n",
       "\n",
       "                               USAGE_DAY_WEEK_AND_TIME  \\\n",
       "193  월-금 11:30-20:30\\n(14:30-17:00 브레이크 타임)\\n(13:30...   \n",
       "252                          11:00-21:30 (20:30 라스트오더)   \n",
       "140           11:00-15:00 / 17:00-22:00\\n(20:30 라스트오더)   \n",
       "\n",
       "                RPRSNTV_MENU  \\\n",
       "193  풍기 트러플 피자 , 무화과 블루치즈 피자   \n",
       "252          갈미샤브샤브, 갈미조개삼겹살   \n",
       "140           요리코스1, 돼지고기탕수육   \n",
       "\n",
       "                                       MAIN_IMG_NORMAL  \\\n",
       "193  https://www.visitbusan.net/uploadImgs/files/cn...   \n",
       "252  https://www.visitbusan.net/uploadImgs/files/cn...   \n",
       "140  https://www.visitbusan.net/uploadImgs/files/cn...   \n",
       "\n",
       "                                        MAIN_IMG_THUMB  \\\n",
       "193  https://www.visitbusan.net/uploadImgs/files/cn...   \n",
       "252  https://www.visitbusan.net/uploadImgs/files/cn...   \n",
       "140  https://www.visitbusan.net/uploadImgs/files/cn...   \n",
       "\n",
       "                                            ITEMCNTNTS  \n",
       "193  특이한 외관의 이 건물은 화덕에 구운 피자와 파스타를 만드는 곳이다.\\n신선한 재료...  \n",
       "252  샤브샤브, 수육, 구이 등 다양한 방식으로 갈미조개를 요리하는 갈미조개 전문 식당....  \n",
       "140  롯데호텔 중식당과 한식당의 책임자로 \\n각종 국제행사를 책임지던 대표가 선보이는 고...  "
      ]
     },
     "execution_count": 69,
     "metadata": {},
     "output_type": "execute_result"
    }
   ],
   "source": [
    "df[df[\"GUGUN_NM\"]==\"강서구\"].sample(n=3)"
   ]
  },
  {
   "cell_type": "code",
   "execution_count": null,
   "metadata": {},
   "outputs": [],
   "source": []
  }
 ],
 "metadata": {
  "kernelspec": {
   "display_name": "env",
   "language": "python",
   "name": "python3"
  },
  "language_info": {
   "codemirror_mode": {
    "name": "ipython",
    "version": 3
   },
   "file_extension": ".py",
   "mimetype": "text/x-python",
   "name": "python",
   "nbconvert_exporter": "python",
   "pygments_lexer": "ipython3",
   "version": "3.13.0"
  }
 },
 "nbformat": 4,
 "nbformat_minor": 2
}
